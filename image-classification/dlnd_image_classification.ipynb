{
 "cells": [
  {
   "cell_type": "markdown",
   "metadata": {
    "collapsed": true
   },
   "source": [
    "# Image Classification\n",
    "In this project, you'll classify images from the [CIFAR-10 dataset](https://www.cs.toronto.edu/~kriz/cifar.html).  The dataset consists of airplanes, dogs, cats, and other objects. You'll preprocess the images, then train a convolutional neural network on all the samples. The images need to be normalized and the labels need to be one-hot encoded.  You'll get to apply what you learned and build a convolutional, max pooling, dropout, and fully connected layers.  At the end, you'll get to see your neural network's predictions on the sample images.\n",
    "## Get the Data\n",
    "Run the following cell to download the [CIFAR-10 dataset for python](https://www.cs.toronto.edu/~kriz/cifar-10-python.tar.gz)."
   ]
  },
  {
   "cell_type": "code",
   "execution_count": 2,
   "metadata": {},
   "outputs": [
    {
     "name": "stderr",
     "output_type": "stream",
     "text": [
      "CIFAR-10 Dataset: 171MB [00:38, 4.43MB/s]                              \n"
     ]
    },
    {
     "name": "stdout",
     "output_type": "stream",
     "text": [
      "All files found!\n"
     ]
    }
   ],
   "source": [
    "\"\"\"\n",
    "DON'T MODIFY ANYTHING IN THIS CELL THAT IS BELOW THIS LINE\n",
    "\"\"\"\n",
    "from urllib.request import urlretrieve\n",
    "from os.path import isfile, isdir\n",
    "from tqdm import tqdm\n",
    "import problem_unittests as tests\n",
    "import tarfile\n",
    "\n",
    "cifar10_dataset_folder_path = 'cifar-10-batches-py'\n",
    "\n",
    "# Use Floyd's cifar-10 dataset if present\n",
    "floyd_cifar10_location = '/cifar/cifar-10-python.tar.gz'\n",
    "if isfile(floyd_cifar10_location):\n",
    "    tar_gz_path = floyd_cifar10_location\n",
    "else:\n",
    "    tar_gz_path = 'cifar-10-python.tar.gz'\n",
    "\n",
    "class DLProgress(tqdm):\n",
    "    last_block = 0\n",
    "\n",
    "    def hook(self, block_num=1, block_size=1, total_size=None):\n",
    "        self.total = total_size\n",
    "        self.update((block_num - self.last_block) * block_size)\n",
    "        self.last_block = block_num\n",
    "\n",
    "if not isfile(tar_gz_path):\n",
    "    with DLProgress(unit='B', unit_scale=True, miniters=1, desc='CIFAR-10 Dataset') as pbar:\n",
    "        urlretrieve(\n",
    "            'https://www.cs.toronto.edu/~kriz/cifar-10-python.tar.gz',\n",
    "            tar_gz_path,\n",
    "            pbar.hook)\n",
    "\n",
    "if not isdir(cifar10_dataset_folder_path):\n",
    "    with tarfile.open(tar_gz_path) as tar:\n",
    "        tar.extractall()\n",
    "        tar.close()\n",
    "\n",
    "\n",
    "tests.test_folder_path(cifar10_dataset_folder_path)"
   ]
  },
  {
   "cell_type": "markdown",
   "metadata": {},
   "source": [
    "## Explore the Data\n",
    "The dataset is broken into batches to prevent your machine from running out of memory.  The CIFAR-10 dataset consists of 5 batches, named `data_batch_1`, `data_batch_2`, etc.. Each batch contains the labels and images that are one of the following:\n",
    "* airplane\n",
    "* automobile\n",
    "* bird\n",
    "* cat\n",
    "* deer\n",
    "* dog\n",
    "* frog\n",
    "* horse\n",
    "* ship\n",
    "* truck\n",
    "\n",
    "Understanding a dataset is part of making predictions on the data.  Play around with the code cell below by changing the `batch_id` and `sample_id`. The `batch_id` is the id for a batch (1-5). The `sample_id` is the id for a image and label pair in the batch.\n",
    "\n",
    "Ask yourself \"What are all possible labels?\", \"What is the range of values for the image data?\", \"Are the labels in order or random?\".  Answers to questions like these will help you preprocess the data and end up with better predictions."
   ]
  },
  {
   "cell_type": "code",
   "execution_count": 7,
   "metadata": {},
   "outputs": [
    {
     "name": "stdout",
     "output_type": "stream",
     "text": [
      "\n",
      "Stats of batch 1:\n",
      "Samples: 10000\n",
      "Label Counts: {0: 1005, 1: 974, 2: 1032, 3: 1016, 4: 999, 5: 937, 6: 1030, 7: 1001, 8: 1025, 9: 981}\n",
      "First 20 Labels: [6, 9, 9, 4, 1, 1, 2, 7, 8, 3, 4, 7, 7, 2, 9, 9, 9, 3, 2, 6]\n",
      "\n",
      "Example of Image 5:\n",
      "Image - Min Value: 0 Max Value: 252\n",
      "Image - Shape: (32, 32, 3)\n",
      "Label - Label Id: 1 Name: automobile\n"
     ]
    },
    {
     "data": {
      "image/png": "[encoded data removed]",
      "text/plain": [
       "<matplotlib.figure.Figure at 0x11d640ba8>"
      ]
     },
     "metadata": {
      "image/png": {
       "height": 250,
       "width": 253
      }
     },
     "output_type": "display_data"
    }
   ],
   "source": [
    "%matplotlib inline\n",
    "%config InlineBackend.figure_format = 'retina'\n",
    "\n",
    "import helper\n",
    "import numpy as np\n",
    "\n",
    "# Explore the dataset\n",
    "batch_id = 1\n",
    "sample_id = 5\n",
    "helper.display_stats(cifar10_dataset_folder_path, batch_id, sample_id)"
   ]
  },
  {
   "cell_type": "markdown",
   "metadata": {},
   "source": [
    "## Implement Preprocess Functions\n",
    "### Normalize\n",
    "In the cell below, implement the `normalize` function to take in image data, `x`, and return it as a normalized Numpy array. The values should be in the range of 0 to 1, inclusive.  The return object should be the same shape as `x`."
   ]
  },
  {
   "cell_type": "code",
   "execution_count": 8,
   "metadata": {},
   "outputs": [
    {
     "name": "stdout",
     "output_type": "stream",
     "text": [
      "Tests Passed\n"
     ]
    }
   ],
   "source": [
    "def normalize(images):\n",
    "    \"\"\"\n",
    "    Normalize a list of sample image data in the range of 0 to 1\n",
    "    : images: List of image data.  The image shape is (32, 32, 3)\n",
    "    : return: Numpy array of normalize data\n",
    "    \"\"\"\n",
    "    return images / 255\n",
    "\n",
    "\n",
    "\"\"\"\n",
    "DON'T MODIFY ANYTHING IN THIS CELL THAT IS BELOW THIS LINE\n",
    "\"\"\"\n",
    "tests.test_normalize(normalize)"
   ]
  },
  {
   "cell_type": "markdown",
   "metadata": {},
   "source": [
    "### One-hot encode\n",
    "Just like the previous code cell, you'll be implementing a function for preprocessing.  This time, you'll implement the `one_hot_encode` function. The input, `x`, are a list of labels.  Implement the function to return the list of labels as One-Hot encoded Numpy array.  The possible values for labels are 0 to 9. The one-hot encoding function should return the same encoding for each value between each call to `one_hot_encode`.  Make sure to save the map of encodings outside the function.\n",
    "\n",
    "Hint: Don't reinvent the wheel."
   ]
  },
  {
   "cell_type": "code",
   "execution_count": 9,
   "metadata": {},
   "outputs": [
    {
     "name": "stdout",
     "output_type": "stream",
     "text": [
      "Tests Passed\n"
     ]
    }
   ],
   "source": [
    "def one_hot_encode(x):\n",
    "    \"\"\"\n",
    "    One hot encode a list of sample labels. Return a one-hot encoded vector for each label.\n",
    "    : x: List of sample Labels\n",
    "    : return: Numpy array of one-hot encoded labels\n",
    "    \"\"\"\n",
    "    return np.eye(10)[x]\n",
    "\n",
    "\n",
    "\"\"\"\n",
    "DON'T MODIFY ANYTHING IN THIS CELL THAT IS BELOW THIS LINE\n",
    "\"\"\"\n",
    "tests.test_one_hot_encode(one_hot_encode)"
   ]
  },
  {
   "cell_type": "markdown",
   "metadata": {},
   "source": [
    "### Randomize Data\n",
    "As you saw from exploring the data above, the order of the samples are randomized.  It doesn't hurt to randomize it again, but you don't need to for this dataset."
   ]
  },
  {
   "cell_type": "markdown",
   "metadata": {},
   "source": [
    "## Preprocess all the data and save it\n",
    "Running the code cell below will preprocess all the CIFAR-10 data and save it to file. The code below also uses 10% of the training data for validation."
   ]
  },
  {
   "cell_type": "code",
   "execution_count": 10,
   "metadata": {
    "collapsed": true
   },
   "outputs": [],
   "source": [
    "\"\"\"\n",
    "DON'T MODIFY ANYTHING IN THIS CELL\n",
    "\"\"\"\n",
    "# Preprocess Training, Validation, and Testing Data\n",
    "helper.preprocess_and_save_data(cifar10_dataset_folder_path, normalize, one_hot_encode)"
   ]
  },
  {
   "cell_type": "markdown",
   "metadata": {},
   "source": [
    "# Check Point\n",
    "This is your first checkpoint.  If you ever decide to come back to this notebook or have to restart the notebook, you can start from here.  The preprocessed data has been saved to disk."
   ]
  },
  {
   "cell_type": "code",
   "execution_count": 11,
   "metadata": {
    "collapsed": true
   },
   "outputs": [],
   "source": [
    "\"\"\"\n",
    "DON'T MODIFY ANYTHING IN THIS CELL\n",
    "\"\"\"\n",
    "import pickle\n",
    "import problem_unittests as tests\n",
    "import helper\n",
    "\n",
    "# Load the Preprocessed Validation data\n",
    "valid_features, valid_labels = pickle.load(open('preprocess_validation.p', mode='rb'))"
   ]
  },
  {
   "cell_type": "markdown",
   "metadata": {},
   "source": [
    "## Build the network\n",
    "For the neural network, you'll build each layer into a function.  Most of the code you've seen has been outside of functions. To test your code more thoroughly, we require that you put each layer in a function.  This allows us to give you better feedback and test for simple mistakes using our unittests before you submit your project.\n",
    "\n",
    ">**Note:** If you're finding it hard to dedicate enough time for this course each week, we've provided a small shortcut to this part of the project. In the next couple of problems, you'll have the option to use classes from the [TensorFlow Layers](https://www.tensorflow.org/api_docs/python/tf/layers) or [TensorFlow Layers (contrib)](https://www.tensorflow.org/api_guides/python/contrib.layers) packages to build each layer, except the layers you build in the \"Convolutional and Max Pooling Layer\" section.  TF Layers is similar to Keras's and TFLearn's abstraction to layers, so it's easy to pickup.\n",
    "\n",
    ">However, if you would like to get the most out of this course, try to solve all the problems _without_ using anything from the TF Layers packages. You **can** still use classes from other packages that happen to have the same name as ones you find in TF Layers! For example, instead of using the TF Layers version of the `conv2d` class, [tf.layers.conv2d](https://www.tensorflow.org/api_docs/python/tf/layers/conv2d), you would want to use the TF Neural Network version of `conv2d`, [tf.nn.conv2d](https://www.tensorflow.org/api_docs/python/tf/nn/conv2d). \n",
    "\n",
    "Let's begin!\n",
    "\n",
    "### Input\n",
    "The neural network needs to read the image data, one-hot encoded labels, and dropout keep probability. Implement the following functions\n",
    "* Implement `neural_net_image_input`\n",
    " * Return a [TF Placeholder](https://www.tensorflow.org/api_docs/python/tf/placeholder)\n",
    " * Set the shape using `image_shape` with batch size set to `None`.\n",
    " * Name the TensorFlow placeholder \"x\" using the TensorFlow `name` parameter in the [TF Placeholder](https://www.tensorflow.org/api_docs/python/tf/placeholder).\n",
    "* Implement `neural_net_label_input`\n",
    " * Return a [TF Placeholder](https://www.tensorflow.org/api_docs/python/tf/placeholder)\n",
    " * Set the shape using `n_classes` with batch size set to `None`.\n",
    " * Name the TensorFlow placeholder \"y\" using the TensorFlow `name` parameter in the [TF Placeholder](https://www.tensorflow.org/api_docs/python/tf/placeholder).\n",
    "* Implement `neural_net_keep_prob_input`\n",
    " * Return a [TF Placeholder](https://www.tensorflow.org/api_docs/python/tf/placeholder) for dropout keep probability.\n",
    " * Name the TensorFlow placeholder \"keep_prob\" using the TensorFlow `name` parameter in the [TF Placeholder](https://www.tensorflow.org/api_docs/python/tf/placeholder).\n",
    "\n",
    "These names will be used at the end of the project to load your saved model.\n",
    "\n",
    "Note: `None` for shapes in TensorFlow allow for a dynamic size."
   ]
  },
  {
   "cell_type": "code",
   "execution_count": 19,
   "metadata": {},
   "outputs": [
    {
     "name": "stdout",
     "output_type": "stream",
     "text": [
      "Image Input Tests Passed.\n",
      "Label Input Tests Passed.\n",
      "Keep Prob Tests Passed.\n"
     ]
    }
   ],
   "source": [
    "import tensorflow as tf\n",
    "\n",
    "def neural_net_image_input(image_shape):\n",
    "    \"\"\"\n",
    "    Return a Tensor for a batch of image input\n",
    "    : image_shape: Shape of the images\n",
    "    : return: Tensor for image input.\n",
    "    \"\"\"\n",
    "    return tf.placeholder(tf.float32, shape=[None, *image_shape], name='x')\n",
    "\n",
    "\n",
    "def neural_net_label_input(n_classes):\n",
    "    \"\"\"\n",
    "    Return a Tensor for a batch of label input\n",
    "    : n_classes: Number of classes\n",
    "    : return: Tensor for label input.\n",
    "    \"\"\"\n",
    "    return tf.placeholder(tf.float32, shape=[None, n_classes], name='y')\n",
    "\n",
    "\n",
    "def neural_net_keep_prob_input():\n",
    "    \"\"\"\n",
    "    Return a Tensor for keep probability\n",
    "    : return: Tensor for keep probability.\n",
    "    \"\"\"\n",
    "    return tf.placeholder(tf.float32, name='keep_prob')\n",
    "\n",
    "\n",
    "\"\"\"\n",
    "DON'T MODIFY ANYTHING IN THIS CELL THAT IS BELOW THIS LINE\n",
    "\"\"\"\n",
    "tf.reset_default_graph()\n",
    "tests.test_nn_image_inputs(neural_net_image_input)\n",
    "tests.test_nn_label_inputs(neural_net_label_input)\n",
    "tests.test_nn_keep_prob_inputs(neural_net_keep_prob_input)"
   ]
  },
  {
   "cell_type": "markdown",
   "metadata": {},
   "source": [
    "### Convolution and Max Pooling Layer\n",
    "Convolution layers have a lot of success with images. For this code cell, you should implement the function `conv2d_maxpool` to apply convolution then max pooling:\n",
    "* Create the weight and bias using `conv_ksize`, `conv_num_outputs` and the shape of `x_tensor`.\n",
    "* Apply a convolution to `x_tensor` using weight and `conv_strides`.\n",
    " * We recommend you use same padding, but you're welcome to use any padding.\n",
    "* Add bias\n",
    "* Add a nonlinear activation to the convolution.\n",
    "* Apply Max Pooling using `pool_ksize` and `pool_strides`.\n",
    " * We recommend you use same padding, but you're welcome to use any padding.\n",
    "\n",
    "**Note:** You **can't** use [TensorFlow Layers](https://www.tensorflow.org/api_docs/python/tf/layers) or [TensorFlow Layers (contrib)](https://www.tensorflow.org/api_guides/python/contrib.layers) for **this** layer, but you can still use TensorFlow's [Neural Network](https://www.tensorflow.org/api_docs/python/tf/nn) package. You may still use the shortcut option for all the **other** layers."
   ]
  },
  {
   "cell_type": "code",
   "execution_count": 52,
   "metadata": {},
   "outputs": [
    {
     "name": "stdout",
     "output_type": "stream",
     "text": [
      "Tests Passed\n"
     ]
    }
   ],
   "source": [
    "def conv2d_maxpool(x_tensor, conv_num_outputs, conv_ksize, conv_strides, pool_ksize, pool_strides):\n",
    "    \"\"\"\n",
    "    Apply convolution then max pooling to x_tensor\n",
    "    :param x_tensor: TensorFlow Tensor\n",
    "    :param conv_num_outputs: Number of outputs for the convolutional layer\n",
    "    :param conv_ksize: kernal size 2-D Tuple for the convolutional layer\n",
    "    :param conv_strides: Stride 2-D Tuple for convolution\n",
    "    :param pool_ksize: kernal size 2-D Tuple for pool\n",
    "    :param pool_strides: Stride 2-D Tuple for pool\n",
    "    : return: A tensor that represents convolution and max pooling of x_tensor\n",
    "    \"\"\"\n",
    "    # weights and bias\n",
    "    weights = tf.Variable(tf.truncated_normal(  # default: mean=0.0, stddev=1.0\n",
    "        shape=[conv_ksize[0],        # height\n",
    "               conv_ksize[1],        # width\n",
    "               x_tensor.shape[-1].value,   # input depth\n",
    "               conv_num_outputs],          # output depth\n",
    "        stddev=0.01))   \n",
    "    bias = tf.Variable(tf.zeros(conv_num_outputs))\n",
    "    \n",
    "    # apply convolution and bias\n",
    "    conv = tf.nn.conv2d(x_tensor, weights, strides=[1, *conv_strides, 1], padding='SAME')\n",
    "    conv = tf.nn.bias_add(conv, bias)\n",
    "    \n",
    "    # ReLU\n",
    "    conv = tf.nn.relu(conv)\n",
    "    \n",
    "    # max pooling\n",
    "    output = tf.nn.max_pool(conv, ksize=[1, *pool_ksize, 1], strides=[1, *pool_strides, 1], padding='SAME')\n",
    "    return output\n",
    "\n",
    "\n",
    "\"\"\"\n",
    "DON'T MODIFY ANYTHING IN THIS CELL THAT IS BELOW THIS LINE\n",
    "\"\"\"\n",
    "tests.test_con_pool(conv2d_maxpool)"
   ]
  },
  {
   "cell_type": "markdown",
   "metadata": {},
   "source": [
    "### Flatten Layer\n",
    "Implement the `flatten` function to change the dimension of `x_tensor` from a 4-D tensor to a 2-D tensor.  The output should be the shape (*Batch Size*, *Flattened Image Size*). Shortcut option: you can use classes from the [TensorFlow Layers](https://www.tensorflow.org/api_docs/python/tf/layers) or [TensorFlow Layers (contrib)](https://www.tensorflow.org/api_guides/python/contrib.layers) packages for this layer. For more of a challenge, only use other TensorFlow packages."
   ]
  },
  {
   "cell_type": "code",
   "execution_count": 53,
   "metadata": {},
   "outputs": [
    {
     "name": "stdout",
     "output_type": "stream",
     "text": [
      "Tests Passed\n"
     ]
    }
   ],
   "source": [
    "def flatten(x_tensor):\n",
    "    \"\"\"\n",
    "    Flatten x_tensor to (Batch Size, Flattened Image Size)\n",
    "    : x_tensor: A tensor of size (Batch Size, ...), where ... are the image dimensions.\n",
    "    : return: A tensor of size (Batch Size, Flattened Image Size).\n",
    "    \"\"\"\n",
    "    return tf.reshape(x_tensor, [-1, x_tensor.get_shape()[1:].num_elements()])\n",
    "\n",
    "\n",
    "\"\"\"\n",
    "DON'T MODIFY ANYTHING IN THIS CELL THAT IS BELOW THIS LINE\n",
    "\"\"\"\n",
    "tests.test_flatten(flatten)"
   ]
  },
  {
   "cell_type": "markdown",
   "metadata": {},
   "source": [
    "### Fully-Connected Layer\n",
    "Implement the `fully_conn` function to apply a fully connected layer to `x_tensor` with the shape (*Batch Size*, *num_outputs*). Shortcut option: you can use classes from the [TensorFlow Layers](https://www.tensorflow.org/api_docs/python/tf/layers) or [TensorFlow Layers (contrib)](https://www.tensorflow.org/api_guides/python/contrib.layers) packages for this layer. For more of a challenge, only use other TensorFlow packages."
   ]
  },
  {
   "cell_type": "code",
   "execution_count": 54,
   "metadata": {},
   "outputs": [
    {
     "name": "stdout",
     "output_type": "stream",
     "text": [
      "Tests Passed\n"
     ]
    }
   ],
   "source": [
    "def fully_conn(x_tensor, num_outputs):\n",
    "    \"\"\"\n",
    "    Apply a fully connected layer to x_tensor using weight and bias\n",
    "    : x_tensor: A 2-D tensor where the first dimension is batch size.\n",
    "    : num_outputs: The number of output that the new tensor should be.\n",
    "    : return: A 2-D tensor where the second dimension is num_outputs.\n",
    "    \"\"\"\n",
    "    batch_size = x_tensor.shape[1].value\n",
    "    # weights and bias\n",
    "    weights = tf.Variable(tf.truncated_normal(shape=[batch_size, num_outputs], stddev=0.01))\n",
    "    bias = tf.Variable(tf.zeros(num_outputs))\n",
    "    \n",
    "    output = tf.nn.bias_add(tf.matmul(x_tensor, weights), bias)\n",
    "    output = tf.nn.relu(output)\n",
    "    return output\n",
    "\n",
    "\n",
    "\"\"\"\n",
    "DON'T MODIFY ANYTHING IN THIS CELL THAT IS BELOW THIS LINE\n",
    "\"\"\"\n",
    "tests.test_fully_conn(fully_conn)"
   ]
  },
  {
   "cell_type": "markdown",
   "metadata": {},
   "source": [
    "### Output Layer\n",
    "Implement the `output` function to apply a fully connected layer to `x_tensor` with the shape (*Batch Size*, *num_outputs*). Shortcut option: you can use classes from the [TensorFlow Layers](https://www.tensorflow.org/api_docs/python/tf/layers) or [TensorFlow Layers (contrib)](https://www.tensorflow.org/api_guides/python/contrib.layers) packages for this layer. For more of a challenge, only use other TensorFlow packages.\n",
    "\n",
    "**Note:** Activation, softmax, or cross entropy should **not** be applied to this."
   ]
  },
  {
   "cell_type": "code",
   "execution_count": 55,
   "metadata": {},
   "outputs": [
    {
     "name": "stdout",
     "output_type": "stream",
     "text": [
      "Tests Passed\n"
     ]
    }
   ],
   "source": [
    "def output(x_tensor, num_outputs):\n",
    "    \"\"\"\n",
    "    Apply a output layer to x_tensor using weight and bias\n",
    "    : x_tensor: A 2-D tensor where the first dimension is batch size.\n",
    "    : num_outputs: The number of output that the new tensor should be.\n",
    "    : return: A 2-D tensor where the second dimension is num_outputs.\n",
    "    \"\"\"\n",
    "    batch_size = x_tensor.shape[1].value\n",
    "    # weights and bias\n",
    "    weights = tf.Variable(tf.truncated_normal(shape=[batch_size, num_outputs], stddev=0.01))\n",
    "    bias = tf.Variable(tf.zeros(num_outputs))\n",
    "    \n",
    "    output = tf.nn.bias_add(tf.matmul(x_tensor, weights), bias)\n",
    "    return output\n",
    "\n",
    "\n",
    "\"\"\"\n",
    "DON'T MODIFY ANYTHING IN THIS CELL THAT IS BELOW THIS LINE\n",
    "\"\"\"\n",
    "tests.test_output(output)"
   ]
  },
  {
   "cell_type": "markdown",
   "metadata": {},
   "source": [
    "### Create Convolutional Model\n",
    "Implement the function `conv_net` to create a convolutional neural network model. The function takes in a batch of images, `x`, and outputs logits.  Use the layers you created above to create this model:\n",
    "\n",
    "* Apply 1, 2, or 3 Convolution and Max Pool layers\n",
    "* Apply a Flatten Layer\n",
    "* Apply 1, 2, or 3 Fully Connected Layers\n",
    "* Apply an Output Layer\n",
    "* Return the output\n",
    "* Apply [TensorFlow's Dropout](https://www.tensorflow.org/api_docs/python/tf/nn/dropout) to one or more layers in the model using `keep_prob`. "
   ]
  },
  {
   "cell_type": "code",
   "execution_count": 56,
   "metadata": {},
   "outputs": [
    {
     "name": "stdout",
     "output_type": "stream",
     "text": [
      "Neural Network Built!\n"
     ]
    }
   ],
   "source": [
    "def conv_net(x, keep_prob):\n",
    "    \"\"\"\n",
    "    Create a convolutional neural network model\n",
    "    : x: Placeholder tensor that holds image data.\n",
    "    : keep_prob: Placeholder tensor that hold dropout keep probability.\n",
    "    : return: Tensor that represents logits\n",
    "    \"\"\"\n",
    "    conv1_depth = 32\n",
    "    conv2_depth = 64\n",
    "    conv3_depth = 128\n",
    "    fc1_size = 256\n",
    "    fc2_size = 512\n",
    "    num_cls = 10\n",
    "    \n",
    "    # pooling kernel configs\n",
    "    conv_ksize = (5, 5)\n",
    "    conv_strides = (1, 1)\n",
    "    pool_ksize = (2, 2)\n",
    "    pool_strides = (2, 2)\n",
    "    kernel_params = [conv_ksize, conv_strides, pool_ksize, pool_strides]\n",
    "    \n",
    "    # Apply Convolution and Max Pool layers\n",
    "    conv1_layer = conv2d_maxpool(x, conv1_depth, *kernel_params) # (16, 16, 32)\n",
    "    conv1_layer = tf.nn.dropout(conv1_layer, keep_prob)\n",
    "    \n",
    "    conv2_layer = conv2d_maxpool(conv1_layer, conv2_depth, *kernel_params) # (8, 8, 64)\n",
    "    conv2_layer = tf.nn.dropout(conv2_layer, keep_prob)\n",
    "    \n",
    "    conv3_layer = conv2d_maxpool(conv2_layer, conv3_depth, *kernel_params) # (4, 4, 128)\n",
    "    conv3_layer = tf.nn.dropout(conv3_layer, keep_prob)\n",
    "    \n",
    "    # Apply a Flatten Layer\n",
    "    conv_flat = flatten(conv3_layer)\n",
    "    \n",
    "\n",
    "    # Apply Fully Connected Layers\n",
    "    fc1_layer = fully_conn(conv_flat, fc1_size)\n",
    "    fc1_layer = tf.nn.dropout(fc1_layer, keep_prob)\n",
    "    fc2_layer = fully_conn(fc1_layer, fc2_size)\n",
    "    fc2_layer = tf.nn.dropout(fc2_layer, keep_prob)\n",
    "    \n",
    "    # Apply an Output Layer\n",
    "    out = output(fc2_layer, num_cls)\n",
    "\n",
    "    return out\n",
    "\n",
    "\n",
    "\"\"\"\n",
    "DON'T MODIFY ANYTHING IN THIS CELL THAT IS BELOW THIS LINE\n",
    "\"\"\"\n",
    "\n",
    "##############################\n",
    "## Build the Neural Network ##\n",
    "##############################\n",
    "\n",
    "# Remove previous weights, bias, inputs, etc..\n",
    "tf.reset_default_graph()\n",
    "\n",
    "# Inputs\n",
    "x = neural_net_image_input((32, 32, 3))\n",
    "y = neural_net_label_input(10)\n",
    "keep_prob = neural_net_keep_prob_input()\n",
    "\n",
    "# Model\n",
    "logits = conv_net(x, keep_prob)\n",
    "\n",
    "# Name logits Tensor, so that is can be loaded from disk after training\n",
    "logits = tf.identity(logits, name='logits')\n",
    "\n",
    "# Loss and Optimizer\n",
    "cost = tf.reduce_mean(tf.nn.softmax_cross_entropy_with_logits(logits=logits, labels=y))\n",
    "optimizer = tf.train.AdamOptimizer().minimize(cost)\n",
    "\n",
    "# Accuracy\n",
    "correct_pred = tf.equal(tf.argmax(logits, 1), tf.argmax(y, 1))\n",
    "accuracy = tf.reduce_mean(tf.cast(correct_pred, tf.float32), name='accuracy')\n",
    "\n",
    "tests.test_conv_net(conv_net)"
   ]
  },
  {
   "cell_type": "markdown",
   "metadata": {},
   "source": [
    "## Train the Neural Network\n",
    "### Single Optimization\n",
    "Implement the function `train_neural_network` to do a single optimization.  The optimization should use `optimizer` to optimize in `session` with a `feed_dict` of the following:\n",
    "* `x` for image input\n",
    "* `y` for labels\n",
    "* `keep_prob` for keep probability for dropout\n",
    "\n",
    "This function will be called for each batch, so `tf.global_variables_initializer()` has already been called.\n",
    "\n",
    "Note: Nothing needs to be returned. This function is only optimizing the neural network."
   ]
  },
  {
   "cell_type": "code",
   "execution_count": 57,
   "metadata": {},
   "outputs": [
    {
     "name": "stdout",
     "output_type": "stream",
     "text": [
      "Tests Passed\n"
     ]
    }
   ],
   "source": [
    "def train_neural_network(session, optimizer, keep_probability, feature_batch, label_batch):\n",
    "    \"\"\"\n",
    "    Optimize the session on a batch of images and labels\n",
    "    : session: Current TensorFlow session\n",
    "    : optimizer: TensorFlow optimizer function\n",
    "    : keep_probability: keep probability\n",
    "    : feature_batch: Batch of Numpy image data\n",
    "    : label_batch: Batch of Numpy label data\n",
    "    \"\"\"\n",
    "    session.run(optimizer, feed_dict={x: feature_batch, y: label_batch, keep_prob: keep_probability})\n",
    "\n",
    "\n",
    "\"\"\"\n",
    "DON'T MODIFY ANYTHING IN THIS CELL THAT IS BELOW THIS LINE\n",
    "\"\"\"\n",
    "tests.test_train_nn(train_neural_network)"
   ]
  },
  {
   "cell_type": "markdown",
   "metadata": {},
   "source": [
    "### Show Stats\n",
    "Implement the function `print_stats` to print loss and validation accuracy.  Use the global variables `valid_features` and `valid_labels` to calculate validation accuracy.  Use a keep probability of `1.0` to calculate the loss and validation accuracy."
   ]
  },
  {
   "cell_type": "code",
   "execution_count": 58,
   "metadata": {
    "collapsed": true
   },
   "outputs": [],
   "source": [
    "def print_stats(session, feature_batch, label_batch, cost, accuracy):\n",
    "    \"\"\"\n",
    "    Print information about loss and validation accuracy\n",
    "    : session: Current TensorFlow session\n",
    "    : feature_batch: Batch of Numpy image data\n",
    "    : label_batch: Batch of Numpy label data\n",
    "    : cost: TensorFlow cost function\n",
    "    : accuracy: TensorFlow accuracy function\n",
    "    \"\"\"\n",
    "    loss = session.run(cost, feed_dict={x: feature_batch, y: label_batch, keep_prob: 1.0})\n",
    "    accuracy = session.run(accuracy, feed_dict={x: valid_features, y: valid_labels, keep_prob: 1.0})\n",
    "    print(\"Loss: {} Accuracy: {}\".format(loss, accuracy))"
   ]
  },
  {
   "cell_type": "markdown",
   "metadata": {},
   "source": [
    "### Hyperparameters\n",
    "Tune the following parameters:\n",
    "* Set `epochs` to the number of iterations until the network stops learning or start overfitting\n",
    "* Set `batch_size` to the highest number that your machine has memory for.  Most people set them to common sizes of memory:\n",
    " * 64\n",
    " * 128\n",
    " * 256\n",
    " * ...\n",
    "* Set `keep_probability` to the probability of keeping a node using dropout"
   ]
  },
  {
   "cell_type": "code",
   "execution_count": 63,
   "metadata": {
    "collapsed": true
   },
   "outputs": [],
   "source": [
    "epochs = 30\n",
    "batch_size = 64\n",
    "keep_probability = 0.75"
   ]
  },
  {
   "cell_type": "markdown",
   "metadata": {},
   "source": [
    "### Train on a Single CIFAR-10 Batch\n",
    "Instead of training the neural network on all the CIFAR-10 batches of data, let's use a single batch. This should save time while you iterate on the model to get a better accuracy.  Once the final validation accuracy is 50% or greater, run the model on all the data in the next section."
   ]
  },
  {
   "cell_type": "code",
   "execution_count": 62,
   "metadata": {},
   "outputs": [
    {
     "name": "stdout",
     "output_type": "stream",
     "text": [
      "Checking the Training on a Single Batch...\n",
      "Epoch  1, CIFAR-10 Batch 1:  Loss: 2.252289295196533 Accuracy: 0.14499999582767487\n",
      "Epoch  2, CIFAR-10 Batch 1:  Loss: 2.2060327529907227 Accuracy: 0.27459999918937683\n",
      "Epoch  3, CIFAR-10 Batch 1:  Loss: 2.0416369438171387 Accuracy: 0.34119999408721924\n",
      "Epoch  4, CIFAR-10 Batch 1:  Loss: 1.9537250995635986 Accuracy: 0.4041999876499176\n",
      "Epoch  5, CIFAR-10 Batch 1:  Loss: 1.944596290588379 Accuracy: 0.40860000252723694\n",
      "Epoch  6, CIFAR-10 Batch 1:  Loss: 1.765843391418457 Accuracy: 0.46880000829696655\n",
      "Epoch  7, CIFAR-10 Batch 1:  Loss: 1.6019372940063477 Accuracy: 0.4814000129699707\n",
      "Epoch  8, CIFAR-10 Batch 1:  Loss: 1.5241159200668335 Accuracy: 0.4912000000476837\n",
      "Epoch  9, CIFAR-10 Batch 1:  Loss: 1.3912522792816162 Accuracy: 0.5094000101089478\n",
      "Epoch 10, CIFAR-10 Batch 1:  Loss: 1.403525471687317 Accuracy: 0.5076000094413757\n"
     ]
    }
   ],
   "source": [
    "\"\"\"\n",
    "DON'T MODIFY ANYTHING IN THIS CELL\n",
    "\"\"\"\n",
    "print('Checking the Training on a Single Batch...')\n",
    "with tf.Session() as sess:\n",
    "    # Initializing the variables\n",
    "    sess.run(tf.global_variables_initializer())\n",
    "    \n",
    "    # Training cycle\n",
    "    for epoch in range(epochs):\n",
    "        batch_i = 1\n",
    "        for batch_features, batch_labels in helper.load_preprocess_training_batch(batch_i, batch_size):\n",
    "            train_neural_network(sess, optimizer, keep_probability, batch_features, batch_labels)\n",
    "        print('Epoch {:>2}, CIFAR-10 Batch {}:  '.format(epoch + 1, batch_i), end='')\n",
    "        print_stats(sess, batch_features, batch_labels, cost, accuracy)"
   ]
  },
  {
   "cell_type": "markdown",
   "metadata": {},
   "source": [
    "### Fully Train the Model\n",
    "Now that you got a good accuracy with a single CIFAR-10 batch, try it with all five batches."
   ]
  },
  {
   "cell_type": "code",
   "execution_count": 64,
   "metadata": {},
   "outputs": [
    {
     "name": "stdout",
     "output_type": "stream",
     "text": [
      "Training...\n",
      "Epoch  1, CIFAR-10 Batch 1:  Loss: 2.195983648300171 Accuracy: 0.241799995303154\n",
      "Epoch  1, CIFAR-10 Batch 2:  Loss: 1.9277929067611694 Accuracy: 0.3124000132083893\n",
      "Epoch  1, CIFAR-10 Batch 3:  Loss: 1.4327948093414307 Accuracy: 0.36820000410079956\n",
      "Epoch  1, CIFAR-10 Batch 4:  Loss: 1.776874303817749 Accuracy: 0.4009999930858612\n",
      "Epoch  1, CIFAR-10 Batch 5:  Loss: 1.7659705877304077 Accuracy: 0.421999990940094\n",
      "Epoch  2, CIFAR-10 Batch 1:  Loss: 1.7640695571899414 Accuracy: 0.43700000643730164\n",
      "Epoch  2, CIFAR-10 Batch 2:  Loss: 1.4385837316513062 Accuracy: 0.4537999927997589\n",
      "Epoch  2, CIFAR-10 Batch 3:  Loss: 1.2841650247573853 Accuracy: 0.48260000348091125\n",
      "Epoch  2, CIFAR-10 Batch 4:  Loss: 1.4491913318634033 Accuracy: 0.5067999958992004\n",
      "Epoch  2, CIFAR-10 Batch 5:  Loss: 1.407388687133789 Accuracy: 0.5067999958992004\n",
      "Epoch  3, CIFAR-10 Batch 1:  Loss: 1.4442379474639893 Accuracy: 0.5271999835968018\n",
      "Epoch  3, CIFAR-10 Batch 2:  Loss: 1.2389047145843506 Accuracy: 0.5447999835014343\n",
      "Epoch  3, CIFAR-10 Batch 3:  Loss: 1.1437256336212158 Accuracy: 0.5382000207901001\n",
      "Epoch  3, CIFAR-10 Batch 4:  Loss: 1.3211263418197632 Accuracy: 0.550000011920929\n",
      "Epoch  3, CIFAR-10 Batch 5:  Loss: 1.196019172668457 Accuracy: 0.548799991607666\n",
      "Epoch  4, CIFAR-10 Batch 1:  Loss: 1.2606608867645264 Accuracy: 0.5845999717712402\n",
      "Epoch  4, CIFAR-10 Batch 2:  Loss: 1.1311845779418945 Accuracy: 0.5544000267982483\n",
      "Epoch  4, CIFAR-10 Batch 3:  Loss: 1.0125505924224854 Accuracy: 0.5784000158309937\n",
      "Epoch  4, CIFAR-10 Batch 4:  Loss: 1.1608703136444092 Accuracy: 0.5902000069618225\n",
      "Epoch  4, CIFAR-10 Batch 5:  Loss: 1.0261561870574951 Accuracy: 0.5920000076293945\n",
      "Epoch  5, CIFAR-10 Batch 1:  Loss: 1.1547367572784424 Accuracy: 0.6096000075340271\n",
      "Epoch  5, CIFAR-10 Batch 2:  Loss: 1.0309408903121948 Accuracy: 0.5842000246047974\n",
      "Epoch  5, CIFAR-10 Batch 3:  Loss: 0.8424026370048523 Accuracy: 0.5935999751091003\n",
      "Epoch  5, CIFAR-10 Batch 4:  Loss: 1.0164167881011963 Accuracy: 0.6172000169754028\n",
      "Epoch  5, CIFAR-10 Batch 5:  Loss: 0.9319400787353516 Accuracy: 0.6128000020980835\n",
      "Epoch  6, CIFAR-10 Batch 1:  Loss: 1.0192196369171143 Accuracy: 0.6241999864578247\n",
      "Epoch  6, CIFAR-10 Batch 2:  Loss: 0.9145013689994812 Accuracy: 0.6258000135421753\n",
      "Epoch  6, CIFAR-10 Batch 3:  Loss: 0.8952207565307617 Accuracy: 0.6259999871253967\n",
      "Epoch  6, CIFAR-10 Batch 4:  Loss: 0.9625215530395508 Accuracy: 0.6295999884605408\n",
      "Epoch  6, CIFAR-10 Batch 5:  Loss: 0.896379828453064 Accuracy: 0.6302000284194946\n",
      "Epoch  7, CIFAR-10 Batch 1:  Loss: 0.9294043779373169 Accuracy: 0.6389999985694885\n",
      "Epoch  7, CIFAR-10 Batch 2:  Loss: 0.8153908848762512 Accuracy: 0.6248000264167786\n",
      "Epoch  7, CIFAR-10 Batch 3:  Loss: 0.727859377861023 Accuracy: 0.646399974822998\n",
      "Epoch  7, CIFAR-10 Batch 4:  Loss: 0.8451735377311707 Accuracy: 0.6597999930381775\n",
      "Epoch  7, CIFAR-10 Batch 5:  Loss: 0.8717806935310364 Accuracy: 0.6381999850273132\n",
      "Epoch  8, CIFAR-10 Batch 1:  Loss: 0.9125732183456421 Accuracy: 0.6621999740600586\n",
      "Epoch  8, CIFAR-10 Batch 2:  Loss: 0.7298905253410339 Accuracy: 0.6552000045776367\n",
      "Epoch  8, CIFAR-10 Batch 3:  Loss: 0.6722369194030762 Accuracy: 0.6528000235557556\n",
      "Epoch  8, CIFAR-10 Batch 4:  Loss: 0.790704607963562 Accuracy: 0.6549999713897705\n",
      "Epoch  8, CIFAR-10 Batch 5:  Loss: 0.8796178102493286 Accuracy: 0.6412000060081482\n",
      "Epoch  9, CIFAR-10 Batch 1:  Loss: 0.8276994824409485 Accuracy: 0.6564000248908997\n",
      "Epoch  9, CIFAR-10 Batch 2:  Loss: 0.5829330682754517 Accuracy: 0.6692000031471252\n",
      "Epoch  9, CIFAR-10 Batch 3:  Loss: 0.6178290247917175 Accuracy: 0.6646000146865845\n",
      "Epoch  9, CIFAR-10 Batch 4:  Loss: 0.748301088809967 Accuracy: 0.6661999821662903\n",
      "Epoch  9, CIFAR-10 Batch 5:  Loss: 0.7756308317184448 Accuracy: 0.6593999862670898\n",
      "Epoch 10, CIFAR-10 Batch 1:  Loss: 0.7514916658401489 Accuracy: 0.6686000227928162\n",
      "Epoch 10, CIFAR-10 Batch 2:  Loss: 0.7228013277053833 Accuracy: 0.6733999848365784\n",
      "Epoch 10, CIFAR-10 Batch 3:  Loss: 0.6152214407920837 Accuracy: 0.6582000255584717\n",
      "Epoch 10, CIFAR-10 Batch 4:  Loss: 0.6607893705368042 Accuracy: 0.6797999739646912\n",
      "Epoch 10, CIFAR-10 Batch 5:  Loss: 0.7222274541854858 Accuracy: 0.6808000206947327\n",
      "Epoch 11, CIFAR-10 Batch 1:  Loss: 0.6662924885749817 Accuracy: 0.6912000179290771\n",
      "Epoch 11, CIFAR-10 Batch 2:  Loss: 0.6166859865188599 Accuracy: 0.6917999982833862\n",
      "Epoch 11, CIFAR-10 Batch 3:  Loss: 0.527701735496521 Accuracy: 0.6814000010490417\n",
      "Epoch 11, CIFAR-10 Batch 4:  Loss: 0.6770546436309814 Accuracy: 0.6815999746322632\n",
      "Epoch 11, CIFAR-10 Batch 5:  Loss: 0.6881662607192993 Accuracy: 0.6805999875068665\n",
      "Epoch 12, CIFAR-10 Batch 1:  Loss: 0.7066198587417603 Accuracy: 0.6908000111579895\n",
      "Epoch 12, CIFAR-10 Batch 2:  Loss: 0.612089991569519 Accuracy: 0.6988000273704529\n",
      "Epoch 12, CIFAR-10 Batch 3:  Loss: 0.450488418340683 Accuracy: 0.6948000192642212\n",
      "Epoch 12, CIFAR-10 Batch 4:  Loss: 0.5710978507995605 Accuracy: 0.7049999833106995\n",
      "Epoch 12, CIFAR-10 Batch 5:  Loss: 0.6883912086486816 Accuracy: 0.6808000206947327\n",
      "Epoch 13, CIFAR-10 Batch 1:  Loss: 0.6476315259933472 Accuracy: 0.6931999921798706\n",
      "Epoch 13, CIFAR-10 Batch 2:  Loss: 0.5916863679885864 Accuracy: 0.7031999826431274\n",
      "Epoch 13, CIFAR-10 Batch 3:  Loss: 0.4233529567718506 Accuracy: 0.7070000171661377\n",
      "Epoch 13, CIFAR-10 Batch 4:  Loss: 0.6267840266227722 Accuracy: 0.7002000212669373\n",
      "Epoch 13, CIFAR-10 Batch 5:  Loss: 0.6451315879821777 Accuracy: 0.703000009059906\n",
      "Epoch 14, CIFAR-10 Batch 1:  Loss: 0.6892178058624268 Accuracy: 0.6948000192642212\n",
      "Epoch 14, CIFAR-10 Batch 2:  Loss: 0.5593425035476685 Accuracy: 0.6840000152587891\n",
      "Epoch 14, CIFAR-10 Batch 3:  Loss: 0.46416980028152466 Accuracy: 0.7053999900817871\n",
      "Epoch 14, CIFAR-10 Batch 4:  Loss: 0.6544849276542664 Accuracy: 0.6935999989509583\n",
      "Epoch 14, CIFAR-10 Batch 5:  Loss: 0.7168148756027222 Accuracy: 0.6912000179290771\n",
      "Epoch 15, CIFAR-10 Batch 1:  Loss: 0.6003710031509399 Accuracy: 0.7134000062942505\n",
      "Epoch 15, CIFAR-10 Batch 2:  Loss: 0.6188666224479675 Accuracy: 0.7034000158309937\n",
      "Epoch 15, CIFAR-10 Batch 3:  Loss: 0.4339788556098938 Accuracy: 0.7092000246047974\n",
      "Epoch 15, CIFAR-10 Batch 4:  Loss: 0.5822466015815735 Accuracy: 0.7088000178337097\n",
      "Epoch 15, CIFAR-10 Batch 5:  Loss: 0.5422552227973938 Accuracy: 0.6977999806404114\n",
      "Epoch 16, CIFAR-10 Batch 1:  Loss: 0.6149086952209473 Accuracy: 0.7174000144004822\n",
      "Epoch 16, CIFAR-10 Batch 2:  Loss: 0.5644530057907104 Accuracy: 0.7117999792098999\n",
      "Epoch 16, CIFAR-10 Batch 3:  Loss: 0.43037623167037964 Accuracy: 0.7106000185012817\n",
      "Epoch 16, CIFAR-10 Batch 4:  Loss: 0.5553155541419983 Accuracy: 0.7164000272750854\n",
      "Epoch 16, CIFAR-10 Batch 5:  Loss: 0.6075345277786255 Accuracy: 0.6818000078201294\n",
      "Epoch 17, CIFAR-10 Batch 1:  Loss: 0.5665258765220642 Accuracy: 0.7192000150680542\n",
      "Epoch 17, CIFAR-10 Batch 2:  Loss: 0.5792485475540161 Accuracy: 0.7124000191688538\n",
      "Epoch 17, CIFAR-10 Batch 3:  Loss: 0.47312241792678833 Accuracy: 0.7106000185012817\n",
      "Epoch 17, CIFAR-10 Batch 4:  Loss: 0.5588005781173706 Accuracy: 0.7156000137329102\n",
      "Epoch 17, CIFAR-10 Batch 5:  Loss: 0.5279791355133057 Accuracy: 0.7016000151634216\n",
      "Epoch 18, CIFAR-10 Batch 1:  Loss: 0.6331165432929993 Accuracy: 0.7239999771118164\n",
      "Epoch 18, CIFAR-10 Batch 2:  Loss: 0.5413874387741089 Accuracy: 0.7134000062942505\n",
      "Epoch 18, CIFAR-10 Batch 3:  Loss: 0.4833971858024597 Accuracy: 0.70660001039505\n",
      "Epoch 18, CIFAR-10 Batch 4:  Loss: 0.44611915946006775 Accuracy: 0.7218000292778015\n",
      "Epoch 18, CIFAR-10 Batch 5:  Loss: 0.4551587998867035 Accuracy: 0.7135999798774719\n",
      "Epoch 19, CIFAR-10 Batch 1:  Loss: 0.5525325536727905 Accuracy: 0.7305999994277954\n",
      "Epoch 19, CIFAR-10 Batch 2:  Loss: 0.5162917971611023 Accuracy: 0.7049999833106995\n",
      "Epoch 19, CIFAR-10 Batch 3:  Loss: 0.41718894243240356 Accuracy: 0.7197999954223633\n",
      "Epoch 19, CIFAR-10 Batch 4:  Loss: 0.521246075630188 Accuracy: 0.7125999927520752\n",
      "Epoch 19, CIFAR-10 Batch 5:  Loss: 0.4432443678379059 Accuracy: 0.7149999737739563\n",
      "Epoch 20, CIFAR-10 Batch 1:  Loss: 0.5696655511856079 Accuracy: 0.7319999933242798\n",
      "Epoch 20, CIFAR-10 Batch 2:  Loss: 0.5730139017105103 Accuracy: 0.7129999995231628\n",
      "Epoch 20, CIFAR-10 Batch 3:  Loss: 0.3529934287071228 Accuracy: 0.7215999960899353\n",
      "Epoch 20, CIFAR-10 Batch 4:  Loss: 0.46265918016433716 Accuracy: 0.7229999899864197\n"
     ]
    },
    {
     "name": "stdout",
     "output_type": "stream",
     "text": [
      "Epoch 20, CIFAR-10 Batch 5:  Loss: 0.5504113435745239 Accuracy: 0.7107999920845032\n",
      "Epoch 21, CIFAR-10 Batch 1:  Loss: 0.5786484479904175 Accuracy: 0.7350000143051147\n",
      "Epoch 21, CIFAR-10 Batch 2:  Loss: 0.4408857226371765 Accuracy: 0.7232000231742859\n",
      "Epoch 21, CIFAR-10 Batch 3:  Loss: 0.36238643527030945 Accuracy: 0.7203999757766724\n",
      "Epoch 21, CIFAR-10 Batch 4:  Loss: 0.47809284925460815 Accuracy: 0.7184000015258789\n",
      "Epoch 21, CIFAR-10 Batch 5:  Loss: 0.5321798324584961 Accuracy: 0.7074000239372253\n",
      "Epoch 22, CIFAR-10 Batch 1:  Loss: 0.6366127133369446 Accuracy: 0.7110000252723694\n",
      "Epoch 22, CIFAR-10 Batch 2:  Loss: 0.46429911255836487 Accuracy: 0.7275999784469604\n",
      "Epoch 22, CIFAR-10 Batch 3:  Loss: 0.3688541054725647 Accuracy: 0.7282000184059143\n",
      "Epoch 22, CIFAR-10 Batch 4:  Loss: 0.4590577483177185 Accuracy: 0.7350000143051147\n",
      "Epoch 22, CIFAR-10 Batch 5:  Loss: 0.45249930024147034 Accuracy: 0.7142000198364258\n",
      "Epoch 23, CIFAR-10 Batch 1:  Loss: 0.511204183101654 Accuracy: 0.7235999703407288\n",
      "Epoch 23, CIFAR-10 Batch 2:  Loss: 0.42711228132247925 Accuracy: 0.7297999858856201\n",
      "Epoch 23, CIFAR-10 Batch 3:  Loss: 0.3923565745353699 Accuracy: 0.725600004196167\n",
      "Epoch 23, CIFAR-10 Batch 4:  Loss: 0.44067734479904175 Accuracy: 0.7301999926567078\n",
      "Epoch 23, CIFAR-10 Batch 5:  Loss: 0.3906729817390442 Accuracy: 0.7232000231742859\n",
      "Epoch 24, CIFAR-10 Batch 1:  Loss: 0.4833500385284424 Accuracy: 0.7283999919891357\n",
      "Epoch 24, CIFAR-10 Batch 2:  Loss: 0.4808080792427063 Accuracy: 0.7311999797821045\n",
      "Epoch 24, CIFAR-10 Batch 3:  Loss: 0.2703724503517151 Accuracy: 0.7387999892234802\n",
      "Epoch 24, CIFAR-10 Batch 4:  Loss: 0.46032485365867615 Accuracy: 0.7314000129699707\n",
      "Epoch 24, CIFAR-10 Batch 5:  Loss: 0.4140077531337738 Accuracy: 0.7224000096321106\n",
      "Epoch 25, CIFAR-10 Batch 1:  Loss: 0.49640560150146484 Accuracy: 0.7279999852180481\n",
      "Epoch 25, CIFAR-10 Batch 2:  Loss: 0.4379458427429199 Accuracy: 0.7328000068664551\n",
      "Epoch 25, CIFAR-10 Batch 3:  Loss: 0.29170066118240356 Accuracy: 0.7355999946594238\n",
      "Epoch 25, CIFAR-10 Batch 4:  Loss: 0.461460679769516 Accuracy: 0.7247999906539917\n",
      "Epoch 25, CIFAR-10 Batch 5:  Loss: 0.4071945250034332 Accuracy: 0.7261999845504761\n",
      "Epoch 26, CIFAR-10 Batch 1:  Loss: 0.44896164536476135 Accuracy: 0.7383999824523926\n",
      "Epoch 26, CIFAR-10 Batch 2:  Loss: 0.4963530898094177 Accuracy: 0.7242000102996826\n",
      "Epoch 26, CIFAR-10 Batch 3:  Loss: 0.33791059255599976 Accuracy: 0.73580002784729\n",
      "Epoch 26, CIFAR-10 Batch 4:  Loss: 0.4540981650352478 Accuracy: 0.724399983882904\n",
      "Epoch 26, CIFAR-10 Batch 5:  Loss: 0.37826448678970337 Accuracy: 0.729200005531311\n",
      "Epoch 27, CIFAR-10 Batch 1:  Loss: 0.4311327040195465 Accuracy: 0.7379999756813049\n",
      "Epoch 27, CIFAR-10 Batch 2:  Loss: 0.43109846115112305 Accuracy: 0.7386000156402588\n",
      "Epoch 27, CIFAR-10 Batch 3:  Loss: 0.24629071354866028 Accuracy: 0.7422000169754028\n",
      "Epoch 27, CIFAR-10 Batch 4:  Loss: 0.47053661942481995 Accuracy: 0.7275999784469604\n",
      "Epoch 27, CIFAR-10 Batch 5:  Loss: 0.33882924914360046 Accuracy: 0.727400004863739\n",
      "Epoch 28, CIFAR-10 Batch 1:  Loss: 0.42723846435546875 Accuracy: 0.7360000014305115\n",
      "Epoch 28, CIFAR-10 Batch 2:  Loss: 0.4835893511772156 Accuracy: 0.7383999824523926\n",
      "Epoch 28, CIFAR-10 Batch 3:  Loss: 0.3107615113258362 Accuracy: 0.7365999817848206\n",
      "Epoch 28, CIFAR-10 Batch 4:  Loss: 0.3802415728569031 Accuracy: 0.7390000224113464\n",
      "Epoch 28, CIFAR-10 Batch 5:  Loss: 0.39539480209350586 Accuracy: 0.7405999898910522\n",
      "Epoch 29, CIFAR-10 Batch 1:  Loss: 0.4335823059082031 Accuracy: 0.7378000020980835\n",
      "Epoch 29, CIFAR-10 Batch 2:  Loss: 0.41981497406959534 Accuracy: 0.734000027179718\n",
      "Epoch 29, CIFAR-10 Batch 3:  Loss: 0.3222978711128235 Accuracy: 0.7396000027656555\n",
      "Epoch 29, CIFAR-10 Batch 4:  Loss: 0.4027242660522461 Accuracy: 0.7351999878883362\n",
      "Epoch 29, CIFAR-10 Batch 5:  Loss: 0.34883004426956177 Accuracy: 0.732200026512146\n",
      "Epoch 30, CIFAR-10 Batch 1:  Loss: 0.4358484148979187 Accuracy: 0.7516000270843506\n",
      "Epoch 30, CIFAR-10 Batch 2:  Loss: 0.3913963735103607 Accuracy: 0.743399977684021\n",
      "Epoch 30, CIFAR-10 Batch 3:  Loss: 0.2704125940799713 Accuracy: 0.7332000136375427\n",
      "Epoch 30, CIFAR-10 Batch 4:  Loss: 0.4167964458465576 Accuracy: 0.7383999824523926\n",
      "Epoch 30, CIFAR-10 Batch 5:  Loss: 0.32696375250816345 Accuracy: 0.7319999933242798\n"
     ]
    }
   ],
   "source": [
    "\"\"\"\n",
    "DON'T MODIFY ANYTHING IN THIS CELL\n",
    "\"\"\"\n",
    "save_model_path = './image_classification'\n",
    "\n",
    "print('Training...')\n",
    "with tf.Session() as sess:\n",
    "    # Initializing the variables\n",
    "    sess.run(tf.global_variables_initializer())\n",
    "    \n",
    "    # Training cycle\n",
    "    for epoch in range(epochs):\n",
    "        # Loop over all batches\n",
    "        n_batches = 5\n",
    "        for batch_i in range(1, n_batches + 1):\n",
    "            for batch_features, batch_labels in helper.load_preprocess_training_batch(batch_i, batch_size):\n",
    "                train_neural_network(sess, optimizer, keep_probability, batch_features, batch_labels)\n",
    "            print('Epoch {:>2}, CIFAR-10 Batch {}:  '.format(epoch + 1, batch_i), end='')\n",
    "            print_stats(sess, batch_features, batch_labels, cost, accuracy)\n",
    "            \n",
    "    # Save Model\n",
    "    saver = tf.train.Saver()\n",
    "    save_path = saver.save(sess, save_model_path)"
   ]
  },
  {
   "cell_type": "markdown",
   "metadata": {},
   "source": [
    "# Checkpoint\n",
    "The model has been saved to disk.\n",
    "## Test Model\n",
    "Test your model against the test dataset.  This will be your final accuracy. You should have an accuracy greater than 50%. If you don't, keep tweaking the model architecture and parameters."
   ]
  },
  {
   "cell_type": "code",
   "execution_count": 66,
   "metadata": {},
   "outputs": [
    {
     "name": "stdout",
     "output_type": "stream",
     "text": [
      "INFO:tensorflow:Restoring parameters from ./image_classification\n",
      "Testing Accuracy: 0.7235270700636943\n",
      "\n"
     ]
    },
    {
     "data": {
      "image/png": "[encoded data removed]",
      "text/plain": [
       "<matplotlib.figure.Figure at 0x11cf48588>"
      ]
     },
     "metadata": {
      "image/png": {
       "height": 319,
       "width": 355
      }
     },
     "output_type": "display_data"
    }
   ],
   "source": [
    "\"\"\"\n",
    "DON'T MODIFY ANYTHING IN THIS CELL\n",
    "\"\"\"\n",
    "%matplotlib inline\n",
    "%config InlineBackend.figure_format = 'retina'\n",
    "\n",
    "import tensorflow as tf\n",
    "import pickle\n",
    "import helper\n",
    "import random\n",
    "\n",
    "# Set batch size if not already set\n",
    "try:\n",
    "    if batch_size:\n",
    "        pass\n",
    "except NameError:\n",
    "    batch_size = 64\n",
    "\n",
    "save_model_path = './image_classification'\n",
    "n_samples = 4\n",
    "top_n_predictions = 3\n",
    "\n",
    "def test_model():\n",
    "    \"\"\"\n",
    "    Test the saved model against the test dataset\n",
    "    \"\"\"\n",
    "\n",
    "    test_features, test_labels = pickle.load(open('preprocess_test.p', mode='rb'))\n",
    "    loaded_graph = tf.Graph()\n",
    "\n",
    "    with tf.Session(graph=loaded_graph) as sess:\n",
    "        # Load model\n",
    "        loader = tf.train.import_meta_graph(save_model_path + '.meta')\n",
    "        loader.restore(sess, save_model_path)\n",
    "\n",
    "        # Get Tensors from loaded model\n",
    "        loaded_x = loaded_graph.get_tensor_by_name('x:0')\n",
    "        loaded_y = loaded_graph.get_tensor_by_name('y:0')\n",
    "        loaded_keep_prob = loaded_graph.get_tensor_by_name('keep_prob:0')\n",
    "        loaded_logits = loaded_graph.get_tensor_by_name('logits:0')\n",
    "        loaded_acc = loaded_graph.get_tensor_by_name('accuracy:0')\n",
    "        \n",
    "        # Get accuracy in batches for memory limitations\n",
    "        test_batch_acc_total = 0\n",
    "        test_batch_count = 0\n",
    "        \n",
    "        for test_feature_batch, test_label_batch in helper.batch_features_labels(test_features, test_labels, batch_size):\n",
    "            test_batch_acc_total += sess.run(\n",
    "                loaded_acc,\n",
    "                feed_dict={loaded_x: test_feature_batch, loaded_y: test_label_batch, loaded_keep_prob: 1.0})\n",
    "            test_batch_count += 1\n",
    "\n",
    "        print('Testing Accuracy: {}\\n'.format(test_batch_acc_total/test_batch_count))\n",
    "\n",
    "        # Print Random Samples\n",
    "        random_test_features, random_test_labels = tuple(zip(*random.sample(list(zip(test_features, test_labels)), n_samples)))\n",
    "        random_test_predictions = sess.run(\n",
    "            tf.nn.top_k(tf.nn.softmax(loaded_logits), top_n_predictions),\n",
    "            feed_dict={loaded_x: random_test_features, loaded_y: random_test_labels, loaded_keep_prob: 1.0})\n",
    "        helper.display_image_predictions(random_test_features, random_test_labels, random_test_predictions)\n",
    "\n",
    "\n",
    "test_model()"
   ]
  },
  {
   "cell_type": "markdown",
   "metadata": {},
   "source": [
    "## Why 50-80% Accuracy?\n",
    "You might be wondering why you can't get an accuracy any higher. First things first, 50% isn't bad for a simple CNN.  Pure guessing would get you 10% accuracy. However, you might notice people are getting scores [well above 80%](http://rodrigob.github.io/are_we_there_yet/build/classification_datasets_results.html#43494641522d3130).  That's because we haven't taught you all there is to know about neural networks. We still need to cover a few more techniques.\n",
    "## Submitting This Project\n",
    "When submitting this project, make sure to run all the cells before saving the notebook.  Save the notebook file as \"dlnd_image_classification.ipynb\" and save it as a HTML file under \"File\" -> \"Download as\".  Include the \"helper.py\" and \"problem_unittests.py\" files in your submission."
   ]
  }
 ],
 "metadata": {
  "kernelspec": {
   "display_name": "Python 3",
   "language": "python",
   "name": "python3"
  },
  "language_info": {
   "codemirror_mode": {
    "name": "ipython",
    "version": 3
   },
   "file_extension": ".py",
   "mimetype": "text/x-python",
   "name": "python",
   "nbconvert_exporter": "python",
   "pygments_lexer": "ipython3",
   "version": "3.5.3"
  }
 },
 "nbformat": 4,
 "nbformat_minor": 1
}
