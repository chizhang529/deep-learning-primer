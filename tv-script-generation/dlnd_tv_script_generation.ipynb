{
 "cells": [
  {
   "cell_type": "markdown",
   "metadata": {},
   "source": [
    "# TV Script Generation\n",
    "In this project, you'll generate your own [Simpsons](https://en.wikipedia.org/wiki/The_Simpsons) TV scripts using RNNs.  You'll be using part of the [Simpsons dataset](https://www.kaggle.com/wcukierski/the-simpsons-by-the-data) of scripts from 27 seasons.  The Neural Network you'll build will generate a new TV script for a scene at [Moe's Tavern](https://simpsonswiki.com/wiki/Moe's_Tavern).\n",
    "## Get the Data\n",
    "The data is already provided for you.  You'll be using a subset of the original dataset.  It consists of only the scenes in Moe's Tavern.  This doesn't include other versions of the tavern, like \"Moe's Cavern\", \"Flaming Moe's\", \"Uncle Moe's Family Feed-Bag\", etc.."
   ]
  },
  {
   "cell_type": "code",
   "execution_count": 1,
   "metadata": {
    "collapsed": true
   },
   "outputs": [],
   "source": [
    "\"\"\"\n",
    "DON'T MODIFY ANYTHING IN THIS CELL\n",
    "\"\"\"\n",
    "import helper\n",
    "\n",
    "data_dir = './data/simpsons/moes_tavern_lines.txt'\n",
    "text = helper.load_data(data_dir)\n",
    "# Ignore notice, since we don't use it for analysing the data\n",
    "text = text[81:]"
   ]
  },
  {
   "cell_type": "markdown",
   "metadata": {},
   "source": [
    "## Explore the Data\n",
    "Play around with `view_sentence_range` to view different parts of the data."
   ]
  },
  {
   "cell_type": "code",
   "execution_count": 2,
   "metadata": {},
   "outputs": [
    {
     "name": "stdout",
     "output_type": "stream",
     "text": [
      "Dataset Stats\n",
      "Roughly the number of unique words: 11492\n",
      "Number of scenes: 262\n",
      "Average number of sentences in each scene: 15.248091603053435\n",
      "Number of lines: 4257\n",
      "Average number of words in each line: 11.50434578341555\n",
      "\n",
      "The sentences 0 to 10:\n",
      "Moe_Szyslak: (INTO PHONE) Moe's Tavern. Where the elite meet to drink.\n",
      "Bart_Simpson: Eh, yeah, hello, is Mike there? Last name, Rotch.\n",
      "Moe_Szyslak: (INTO PHONE) Hold on, I'll check. (TO BARFLIES) Mike Rotch. Mike Rotch. Hey, has anybody seen Mike Rotch, lately?\n",
      "Moe_Szyslak: (INTO PHONE) Listen you little puke. One of these days I'm gonna catch you, and I'm gonna carve my name on your back with an ice pick.\n",
      "Moe_Szyslak: What's the matter Homer? You're not your normal effervescent self.\n",
      "Homer_Simpson: I got my problems, Moe. Give me another one.\n",
      "Moe_Szyslak: Homer, hey, you should not drink to forget your problems.\n",
      "Barney_Gumble: Yeah, you should only drink to enhance your social skills.\n",
      "\n",
      "\n"
     ]
    }
   ],
   "source": [
    "view_sentence_range = (0, 10)\n",
    "\n",
    "\"\"\"\n",
    "DON'T MODIFY ANYTHING IN THIS CELL\n",
    "\"\"\"\n",
    "import numpy as np\n",
    "\n",
    "print('Dataset Stats')\n",
    "print('Roughly the number of unique words: {}'.format(len({word: None for word in text.split()})))\n",
    "scenes = text.split('\\n\\n')\n",
    "print('Number of scenes: {}'.format(len(scenes)))\n",
    "sentence_count_scene = [scene.count('\\n') for scene in scenes]\n",
    "print('Average number of sentences in each scene: {}'.format(np.average(sentence_count_scene)))\n",
    "\n",
    "sentences = [sentence for scene in scenes for sentence in scene.split('\\n')]\n",
    "print('Number of lines: {}'.format(len(sentences)))\n",
    "word_count_sentence = [len(sentence.split()) for sentence in sentences]\n",
    "print('Average number of words in each line: {}'.format(np.average(word_count_sentence)))\n",
    "\n",
    "print()\n",
    "print('The sentences {} to {}:'.format(*view_sentence_range))\n",
    "print('\\n'.join(text.split('\\n')[view_sentence_range[0]:view_sentence_range[1]]))"
   ]
  },
  {
   "cell_type": "markdown",
   "metadata": {},
   "source": [
    "## Implement Preprocessing Functions\n",
    "The first thing to do to any dataset is preprocessing.  Implement the following preprocessing functions below:\n",
    "- Lookup Table\n",
    "- Tokenize Punctuation\n",
    "\n",
    "### Lookup Table\n",
    "To create a word embedding, you first need to transform the words to ids.  In this function, create two dictionaries:\n",
    "- Dictionary to go from the words to an id, we'll call `vocab_to_int`\n",
    "- Dictionary to go from the id to word, we'll call `int_to_vocab`\n",
    "\n",
    "Return these dictionaries in the following tuple `(vocab_to_int, int_to_vocab)`"
   ]
  },
  {
   "cell_type": "code",
   "execution_count": 14,
   "metadata": {},
   "outputs": [
    {
     "name": "stdout",
     "output_type": "stream",
     "text": [
      "Tests Passed\n"
     ]
    }
   ],
   "source": [
    "from collections import Counter\n",
    "import numpy as np\n",
    "import problem_unittests as tests\n",
    "\n",
    "def create_lookup_tables(text):\n",
    "    \"\"\"\n",
    "    Create lookup tables for vocabulary\n",
    "    :param text: The text of tv scripts split into words\n",
    "    :return: A tuple of dicts (vocab_to_int, int_to_vocab)\n",
    "    \"\"\"\n",
    "    counter = Counter(text)\n",
    "    vocab = sorted(counter)\n",
    "    vocab_to_int = {char: index for index, char in enumerate(vocab)}\n",
    "    int_to_vocab = dict(enumerate(vocab))\n",
    "    return (vocab_to_int, int_to_vocab)\n",
    "\n",
    "\n",
    "\"\"\"\n",
    "DON'T MODIFY ANYTHING IN THIS CELL THAT IS BELOW THIS LINE\n",
    "\"\"\"\n",
    "tests.test_create_lookup_tables(create_lookup_tables)"
   ]
  },
  {
   "cell_type": "markdown",
   "metadata": {},
   "source": [
    "### Tokenize Punctuation\n",
    "We'll be splitting the script into a word array using spaces as delimiters.  However, punctuations like periods and exclamation marks make it hard for the neural network to distinguish between the word \"bye\" and \"bye!\".\n",
    "\n",
    "Implement the function `token_lookup` to return a dict that will be used to tokenize symbols like \"!\" into \"||Exclamation_Mark||\".  Create a dictionary for the following symbols where the symbol is the key and value is the token:\n",
    "- Period ( . )\n",
    "- Comma ( , )\n",
    "- Quotation Mark ( \" )\n",
    "- Semicolon ( ; )\n",
    "- Exclamation mark ( ! )\n",
    "- Question mark ( ? )\n",
    "- Left Parentheses ( ( )\n",
    "- Right Parentheses ( ) )\n",
    "- Dash ( -- )\n",
    "- Return ( \\n )\n",
    "\n",
    "This dictionary will be used to token the symbols and add the delimiter (space) around it.  This separates the symbols as it's own word, making it easier for the neural network to predict on the next word. Make sure you don't use a token that could be confused as a word. Instead of using the token \"dash\", try using something like \"||dash||\"."
   ]
  },
  {
   "cell_type": "code",
   "execution_count": 15,
   "metadata": {},
   "outputs": [
    {
     "name": "stdout",
     "output_type": "stream",
     "text": [
      "Tests Passed\n"
     ]
    }
   ],
   "source": [
    "def token_lookup():\n",
    "    \"\"\"\n",
    "    Generate a dict to turn punctuation into a token.\n",
    "    :return: Tokenize dictionary where the key is the punctuation and the value is the token\n",
    "    \"\"\"\n",
    "    punct_dict = {'.': '||period||', \n",
    "                  ',': '||comma||',\n",
    "                  '\"': '||quotation_mark||',\n",
    "                  ';': '||semicolon||',\n",
    "                  '!': '||exclamation_mark||',\n",
    "                  '?': '||question_mark||',\n",
    "                  '(': '||left_parentheses||',\n",
    "                  ')': '||right_parentheses||',\n",
    "                  '--': '||dash||',\n",
    "                  '\\n': '||return||'}\n",
    "    return punct_dict\n",
    "\n",
    "\"\"\"\n",
    "DON'T MODIFY ANYTHING IN THIS CELL THAT IS BELOW THIS LINE\n",
    "\"\"\"\n",
    "tests.test_tokenize(token_lookup)"
   ]
  },
  {
   "cell_type": "markdown",
   "metadata": {},
   "source": [
    "## Preprocess all the data and save it\n",
    "Running the code cell below will preprocess all the data and save it to file."
   ]
  },
  {
   "cell_type": "code",
   "execution_count": 16,
   "metadata": {
    "collapsed": true
   },
   "outputs": [],
   "source": [
    "\"\"\"\n",
    "DON'T MODIFY ANYTHING IN THIS CELL\n",
    "\"\"\"\n",
    "# Preprocess Training, Validation, and Testing Data\n",
    "helper.preprocess_and_save_data(data_dir, token_lookup, create_lookup_tables)"
   ]
  },
  {
   "cell_type": "markdown",
   "metadata": {},
   "source": [
    "# Check Point\n",
    "This is your first checkpoint. If you ever decide to come back to this notebook or have to restart the notebook, you can start from here. The preprocessed data has been saved to disk."
   ]
  },
  {
   "cell_type": "code",
   "execution_count": 3,
   "metadata": {
    "collapsed": true
   },
   "outputs": [],
   "source": [
    "\"\"\"\n",
    "DON'T MODIFY ANYTHING IN THIS CELL\n",
    "\"\"\"\n",
    "import helper\n",
    "import numpy as np\n",
    "import problem_unittests as tests\n",
    "\n",
    "int_text, vocab_to_int, int_to_vocab, token_dict = helper.load_preprocess()"
   ]
  },
  {
   "cell_type": "markdown",
   "metadata": {},
   "source": [
    "## Build the Neural Network\n",
    "You'll build the components necessary to build a RNN by implementing the following functions below:\n",
    "- get_inputs\n",
    "- get_init_cell\n",
    "- get_embed\n",
    "- build_rnn\n",
    "- build_nn\n",
    "- get_batches\n",
    "\n",
    "### Check the Version of TensorFlow and Access to GPU"
   ]
  },
  {
   "cell_type": "code",
   "execution_count": 4,
   "metadata": {},
   "outputs": [
    {
     "name": "stdout",
     "output_type": "stream",
     "text": [
      "TensorFlow Version: 1.1.0\n",
      "Default GPU Device: /gpu:0\n"
     ]
    }
   ],
   "source": [
    "\"\"\"\n",
    "DON'T MODIFY ANYTHING IN THIS CELL\n",
    "\"\"\"\n",
    "from distutils.version import LooseVersion\n",
    "import warnings\n",
    "import tensorflow as tf\n",
    "\n",
    "# Check TensorFlow Version\n",
    "assert LooseVersion(tf.__version__) >= LooseVersion('1.0'), 'Please use TensorFlow version 1.0 or newer'\n",
    "print('TensorFlow Version: {}'.format(tf.__version__))\n",
    "\n",
    "# Check for a GPU\n",
    "if not tf.test.gpu_device_name():\n",
    "    warnings.warn('No GPU found. Please use a GPU to train your neural network.')\n",
    "else:\n",
    "    print('Default GPU Device: {}'.format(tf.test.gpu_device_name()))"
   ]
  },
  {
   "cell_type": "markdown",
   "metadata": {},
   "source": [
    "### Input\n",
    "Implement the `get_inputs()` function to create TF Placeholders for the Neural Network.  It should create the following placeholders:\n",
    "- Input text placeholder named \"input\" using the [TF Placeholder](https://www.tensorflow.org/api_docs/python/tf/placeholder) `name` parameter.\n",
    "- Targets placeholder\n",
    "- Learning Rate placeholder\n",
    "\n",
    "Return the placeholders in the following tuple `(Input, Targets, LearningRate)`"
   ]
  },
  {
   "cell_type": "code",
   "execution_count": 5,
   "metadata": {},
   "outputs": [
    {
     "name": "stdout",
     "output_type": "stream",
     "text": [
      "Tests Passed\n"
     ]
    }
   ],
   "source": [
    "def get_inputs():\n",
    "    \"\"\"\n",
    "    Create TF Placeholders for input, targets, and learning rate.\n",
    "    :return: Tuple (input, targets, learning rate)\n",
    "    \"\"\"\n",
    "    inputs = tf.placeholder(tf.int32, shape=[None, None], name='input')\n",
    "    targets = tf.placeholder(tf.int32, shape=[None, None], name='targets')\n",
    "    learning_rate = tf.placeholder(tf.float32)\n",
    "    return (inputs, targets, learning_rate)\n",
    "\n",
    "\n",
    "\"\"\"\n",
    "DON'T MODIFY ANYTHING IN THIS CELL THAT IS BELOW THIS LINE\n",
    "\"\"\"\n",
    "tests.test_get_inputs(get_inputs)"
   ]
  },
  {
   "cell_type": "markdown",
   "metadata": {},
   "source": [
    "### Build RNN Cell and Initialize\n",
    "Stack one or more [`BasicLSTMCells`](https://www.tensorflow.org/api_docs/python/tf/contrib/rnn/BasicLSTMCell) in a [`MultiRNNCell`](https://www.tensorflow.org/api_docs/python/tf/contrib/rnn/MultiRNNCell).\n",
    "- The Rnn size should be set using `rnn_size`\n",
    "- Initalize Cell State using the MultiRNNCell's [`zero_state()`](https://www.tensorflow.org/api_docs/python/tf/contrib/rnn/MultiRNNCell#zero_state) function\n",
    "    - Apply the name \"initial_state\" to the initial state using [`tf.identity()`](https://www.tensorflow.org/api_docs/python/tf/identity)\n",
    "\n",
    "Return the cell and initial state in the following tuple `(Cell, InitialState)`"
   ]
  },
  {
   "cell_type": "code",
   "execution_count": 41,
   "metadata": {},
   "outputs": [
    {
     "name": "stdout",
     "output_type": "stream",
     "text": [
      "Tests Passed\n"
     ]
    }
   ],
   "source": [
    "def build_cell(lstm_size):\n",
    "    lstm = tf.contrib.rnn.BasicLSTMCell(lstm_size)\n",
    "    return lstm\n",
    "    \n",
    "def get_init_cell(batch_size, rnn_size, num_layers=2):\n",
    "    \"\"\"\n",
    "    Create an RNN Cell and initialize it.\n",
    "    :param batch_size: Size of batches\n",
    "    :param rnn_size: Size of RNNs\n",
    "    :return: Tuple (cell, initialize state)\n",
    "    \"\"\"\n",
    "    cell = tf.contrib.rnn.MultiRNNCell([build_cell(rnn_size) for _ in range(num_layers)])\n",
    "    initial_state = cell.zero_state(batch_size, tf.float32)\n",
    "    initial_state = tf.identity(initial_state, name= \"initial_state\")\n",
    "    \n",
    "    return (cell, initial_state)\n",
    "\n",
    "\n",
    "\"\"\"\n",
    "DON'T MODIFY ANYTHING IN THIS CELL THAT IS BELOW THIS LINE\n",
    "\"\"\"\n",
    "tests.test_get_init_cell(get_init_cell)"
   ]
  },
  {
   "cell_type": "markdown",
   "metadata": {},
   "source": [
    "### Word Embedding\n",
    "Apply embedding to `input_data` using TensorFlow.  Return the embedded sequence."
   ]
  },
  {
   "cell_type": "code",
   "execution_count": 42,
   "metadata": {},
   "outputs": [
    {
     "name": "stdout",
     "output_type": "stream",
     "text": [
      "Tests Passed\n"
     ]
    }
   ],
   "source": [
    "def get_embed(input_data, vocab_size, embed_dim):\n",
    "    \"\"\"\n",
    "    Create embedding for <input_data>.\n",
    "    :param input_data: TF placeholder for text input.\n",
    "    :param vocab_size: Number of words in vocabulary.\n",
    "    :param embed_dim: Number of embedding dimensions\n",
    "    :return: Embedded input.\n",
    "    \"\"\"\n",
    "    embedding = tf.Variable(tf.truncated_normal((vocab_size, embed_dim), stddev=0.25))\n",
    "    embed = tf.nn.embedding_lookup(embedding, input_data)\n",
    "    \n",
    "    return embed\n",
    "\n",
    "\n",
    "\"\"\"\n",
    "DON'T MODIFY ANYTHING IN THIS CELL THAT IS BELOW THIS LINE\n",
    "\"\"\"\n",
    "tests.test_get_embed(get_embed)"
   ]
  },
  {
   "cell_type": "markdown",
   "metadata": {},
   "source": [
    "### Build RNN\n",
    "You created a RNN Cell in the `get_init_cell()` function.  Time to use the cell to create a RNN.\n",
    "- Build the RNN using the [`tf.nn.dynamic_rnn()`](https://www.tensorflow.org/api_docs/python/tf/nn/dynamic_rnn)\n",
    " - Apply the name \"final_state\" to the final state using [`tf.identity()`](https://www.tensorflow.org/api_docs/python/tf/identity)\n",
    "\n",
    "Return the outputs and final_state state in the following tuple `(Outputs, FinalState)` "
   ]
  },
  {
   "cell_type": "code",
   "execution_count": 43,
   "metadata": {},
   "outputs": [
    {
     "name": "stdout",
     "output_type": "stream",
     "text": [
      "Tests Passed\n"
     ]
    }
   ],
   "source": [
    "def build_rnn(cell, inputs):\n",
    "    \"\"\"\n",
    "    Create a RNN using a RNN Cell\n",
    "    :param cell: RNN Cell\n",
    "    :param inputs: Input text data\n",
    "    :return: Tuple (Outputs, Final State)\n",
    "    \"\"\"\n",
    "    outputs, final_state = tf.nn.dynamic_rnn(cell, inputs, dtype=tf.float32)\n",
    "    final_state = tf.identity(final_state, name=\"final_state\")\n",
    "    \n",
    "    return (outputs, final_state)\n",
    "\n",
    "\n",
    "\"\"\"\n",
    "DON'T MODIFY ANYTHING IN THIS CELL THAT IS BELOW THIS LINE\n",
    "\"\"\"\n",
    "tests.test_build_rnn(build_rnn)"
   ]
  },
  {
   "cell_type": "markdown",
   "metadata": {},
   "source": [
    "### Build the Neural Network\n",
    "Apply the functions you implemented above to:\n",
    "- Apply embedding to `input_data` using your `get_embed(input_data, vocab_size, embed_dim)` function.\n",
    "- Build RNN using `cell` and your `build_rnn(cell, inputs)` function.\n",
    "- Apply a fully connected layer with a linear activation and `vocab_size` as the number of outputs.\n",
    "\n",
    "Return the logits and final state in the following tuple (Logits, FinalState) "
   ]
  },
  {
   "cell_type": "code",
   "execution_count": 44,
   "metadata": {},
   "outputs": [
    {
     "name": "stdout",
     "output_type": "stream",
     "text": [
      "Tests Passed\n"
     ]
    }
   ],
   "source": [
    "def build_nn(cell, rnn_size, input_data, vocab_size, embed_dim):\n",
    "    \"\"\"\n",
    "    Build part of the neural network\n",
    "    :param cell: RNN cell\n",
    "    :param rnn_size: Size of rnns\n",
    "    :param input_data: Input data\n",
    "    :param vocab_size: Vocabulary size\n",
    "    :param embed_dim: Number of embedding dimensions\n",
    "    :return: Tuple (Logits, FinalState)\n",
    "    \"\"\"\n",
    "    inputs = get_embed(input_data, vocab_size, embed_dim)\n",
    "    outputs, final_state = build_rnn(cell, inputs)\n",
    "    logits = tf.contrib.layers.fully_connected(outputs, vocab_size, activation_fn=None)  # without non-linearity\n",
    "    return (logits, final_state)\n",
    "\n",
    "\n",
    "\"\"\"\n",
    "DON'T MODIFY ANYTHING IN THIS CELL THAT IS BELOW THIS LINE\n",
    "\"\"\"\n",
    "tests.test_build_nn(build_nn)"
   ]
  },
  {
   "cell_type": "markdown",
   "metadata": {},
   "source": [
    "### Batches\n",
    "Implement `get_batches` to create batches of input and targets using `int_text`.  The batches should be a Numpy array with the shape `(number of batches, 2, batch size, sequence length)`. Each batch contains two elements:\n",
    "- The first element is a single batch of **input** with the shape `[batch size, sequence length]`\n",
    "- The second element is a single batch of **targets** with the shape `[batch size, sequence length]`\n",
    "\n",
    "If you can't fill the last batch with enough data, drop the last batch.\n",
    "\n",
    "For exmple, `get_batches([1, 2, 3, 4, 5, 6, 7, 8, 9, 10, 11, 12, 13, 14, 15, 16, 17, 18, 19, 20], 3, 2)` would return a Numpy array of the following:\n",
    "```\n",
    "[\n",
    "  # First Batch\n",
    "  [\n",
    "    # Batch of Input\n",
    "    [[ 1  2], [ 7  8], [13 14]]\n",
    "    # Batch of targets\n",
    "    [[ 2  3], [ 8  9], [14 15]]\n",
    "  ]\n",
    "\n",
    "  # Second Batch\n",
    "  [\n",
    "    # Batch of Input\n",
    "    [[ 3  4], [ 9 10], [15 16]]\n",
    "    # Batch of targets\n",
    "    [[ 4  5], [10 11], [16 17]]\n",
    "  ]\n",
    "\n",
    "  # Third Batch\n",
    "  [\n",
    "    # Batch of Input\n",
    "    [[ 5  6], [11 12], [17 18]]\n",
    "    # Batch of targets\n",
    "    [[ 6  7], [12 13], [18  1]]\n",
    "  ]\n",
    "]\n",
    "```\n",
    "\n",
    "Notice that the last target value in the last batch is the first input value of the first batch. In this case, `1`. This is a common technique used when creating sequence batches, although it is rather unintuitive."
   ]
  },
  {
   "cell_type": "code",
   "execution_count": 49,
   "metadata": {},
   "outputs": [
    {
     "name": "stdout",
     "output_type": "stream",
     "text": [
      "Tests Passed\n"
     ]
    }
   ],
   "source": [
    "def get_batches(int_text, batch_size, seq_length):\n",
    "    \"\"\"\n",
    "    Return batches of input and target\n",
    "    :param int_text: Text with the words replaced by their ids\n",
    "    :param batch_size: The size of batch\n",
    "    :param seq_length: The length of sequence\n",
    "    :return: Batches as a Numpy array\n",
    "    \"\"\"\n",
    "    char_per_batch = batch_size * seq_length\n",
    "    n_batches = len(int_text) // char_per_batch\n",
    "    \n",
    "    xdata = np.array(int_text[: n_batches * batch_size * seq_length])\n",
    "    ydata = np.array(int_text[1: n_batches * batch_size * seq_length + 1])\n",
    "    ydata[-1] = xdata[0]\n",
    "\n",
    "    x_batches = np.split(xdata.reshape(batch_size, -1), n_batches, 1)\n",
    "    y_batches = np.split(ydata.reshape(batch_size, -1), n_batches, 1)\n",
    "        \n",
    "    return np.array(list(zip(x_batches, y_batches)))\n",
    "\n",
    "\n",
    "\"\"\"\n",
    "DON'T MODIFY ANYTHING IN THIS CELL THAT IS BELOW THIS LINE\n",
    "\"\"\"\n",
    "tests.test_get_batches(get_batches)"
   ]
  },
  {
   "cell_type": "markdown",
   "metadata": {},
   "source": [
    "## Neural Network Training\n",
    "### Hyperparameters\n",
    "Tune the following parameters:\n",
    "\n",
    "- Set `num_epochs` to the number of epochs.\n",
    "- Set `batch_size` to the batch size.\n",
    "- Set `rnn_size` to the size of the RNNs.\n",
    "- Set `embed_dim` to the size of the embedding.\n",
    "- Set `seq_length` to the length of sequence.\n",
    "- Set `learning_rate` to the learning rate.\n",
    "- Set `show_every_n_batches` to the number of batches the neural network should print progress."
   ]
  },
  {
   "cell_type": "code",
   "execution_count": 56,
   "metadata": {
    "collapsed": true
   },
   "outputs": [],
   "source": [
    "# Number of Epochs\n",
    "num_epochs = 200\n",
    "# Batch Size\n",
    "batch_size = 256\n",
    "# RNN Size\n",
    "rnn_size = 1024\n",
    "# Embedding Dimension Size\n",
    "embed_dim = 300\n",
    "# Sequence Length\n",
    "seq_length = 16\n",
    "# Learning Rate\n",
    "learning_rate = 0.001\n",
    "# Show stats for every n number of batches\n",
    "show_every_n_batches = 8\n",
    "\n",
    "\"\"\"\n",
    "DON'T MODIFY ANYTHING IN THIS CELL THAT IS BELOW THIS LINE\n",
    "\"\"\"\n",
    "save_dir = './save'"
   ]
  },
  {
   "cell_type": "markdown",
   "metadata": {},
   "source": [
    "### Build the Graph\n",
    "Build the graph using the neural network you implemented."
   ]
  },
  {
   "cell_type": "code",
   "execution_count": 57,
   "metadata": {},
   "outputs": [],
   "source": [
    "\"\"\"\n",
    "DON'T MODIFY ANYTHING IN THIS CELL\n",
    "\"\"\"\n",
    "from tensorflow.contrib import seq2seq\n",
    "\n",
    "train_graph = tf.Graph()\n",
    "with train_graph.as_default():\n",
    "    vocab_size = len(int_to_vocab)\n",
    "    input_text, targets, lr = get_inputs()\n",
    "    input_data_shape = tf.shape(input_text)\n",
    "    cell, initial_state = get_init_cell(input_data_shape[0], rnn_size)\n",
    "    logits, final_state = build_nn(cell, rnn_size, input_text, vocab_size, embed_dim)\n",
    "\n",
    "    # Probabilities for generating words\n",
    "    probs = tf.nn.softmax(logits, name='probs')\n",
    "\n",
    "    # Loss function\n",
    "    cost = seq2seq.sequence_loss(\n",
    "        logits,\n",
    "        targets,\n",
    "        tf.ones([input_data_shape[0], input_data_shape[1]]))\n",
    "\n",
    "    # Optimizer\n",
    "    optimizer = tf.train.AdamOptimizer(lr)\n",
    "\n",
    "    # Gradient Clipping\n",
    "    gradients = optimizer.compute_gradients(cost)\n",
    "    capped_gradients = [(tf.clip_by_value(grad, -1., 1.), var) for grad, var in gradients if grad is not None]\n",
    "    train_op = optimizer.apply_gradients(capped_gradients)"
   ]
  },
  {
   "cell_type": "markdown",
   "metadata": {},
   "source": [
    "## Train\n",
    "Train the neural network on the preprocessed data.  If you have a hard time getting a good loss, check the [forums](https://discussions.udacity.com/) to see if anyone is having the same problem."
   ]
  },
  {
   "cell_type": "code",
   "execution_count": 58,
   "metadata": {},
   "outputs": [
    {
     "name": "stdout",
     "output_type": "stream",
     "text": [
      "Epoch   0 Batch    0/16   train_loss = 8.822\n",
      "Epoch   0 Batch    8/16   train_loss = 6.714\n",
      "Epoch   1 Batch    0/16   train_loss = 6.387\n",
      "Epoch   1 Batch    8/16   train_loss = 6.112\n",
      "Epoch   2 Batch    0/16   train_loss = 6.066\n",
      "Epoch   2 Batch    8/16   train_loss = 6.063\n",
      "Epoch   3 Batch    0/16   train_loss = 5.980\n",
      "Epoch   3 Batch    8/16   train_loss = 5.958\n",
      "Epoch   4 Batch    0/16   train_loss = 5.855\n",
      "Epoch   4 Batch    8/16   train_loss = 5.800\n",
      "Epoch   5 Batch    0/16   train_loss = 5.699\n",
      "Epoch   5 Batch    8/16   train_loss = 5.660\n",
      "Epoch   6 Batch    0/16   train_loss = 5.567\n",
      "Epoch   6 Batch    8/16   train_loss = 5.520\n",
      "Epoch   7 Batch    0/16   train_loss = 5.408\n",
      "Epoch   7 Batch    8/16   train_loss = 5.358\n",
      "Epoch   8 Batch    0/16   train_loss = 5.251\n",
      "Epoch   8 Batch    8/16   train_loss = 5.210\n",
      "Epoch   9 Batch    0/16   train_loss = 5.114\n",
      "Epoch   9 Batch    8/16   train_loss = 5.078\n",
      "Epoch  10 Batch    0/16   train_loss = 4.990\n",
      "Epoch  10 Batch    8/16   train_loss = 4.969\n",
      "Epoch  11 Batch    0/16   train_loss = 4.877\n",
      "Epoch  11 Batch    8/16   train_loss = 4.875\n",
      "Epoch  12 Batch    0/16   train_loss = 4.789\n",
      "Epoch  12 Batch    8/16   train_loss = 4.790\n",
      "Epoch  13 Batch    0/16   train_loss = 4.721\n",
      "Epoch  13 Batch    8/16   train_loss = 4.707\n",
      "Epoch  14 Batch    0/16   train_loss = 4.636\n",
      "Epoch  14 Batch    8/16   train_loss = 4.640\n",
      "Epoch  15 Batch    0/16   train_loss = 4.588\n",
      "Epoch  15 Batch    8/16   train_loss = 4.574\n",
      "Epoch  16 Batch    0/16   train_loss = 4.518\n",
      "Epoch  16 Batch    8/16   train_loss = 4.518\n",
      "Epoch  17 Batch    0/16   train_loss = 4.439\n",
      "Epoch  17 Batch    8/16   train_loss = 4.477\n",
      "Epoch  18 Batch    0/16   train_loss = 4.385\n",
      "Epoch  18 Batch    8/16   train_loss = 4.395\n",
      "Epoch  19 Batch    0/16   train_loss = 4.339\n",
      "Epoch  19 Batch    8/16   train_loss = 4.359\n",
      "Epoch  20 Batch    0/16   train_loss = 4.272\n",
      "Epoch  20 Batch    8/16   train_loss = 4.280\n",
      "Epoch  21 Batch    0/16   train_loss = 4.219\n",
      "Epoch  21 Batch    8/16   train_loss = 4.218\n",
      "Epoch  22 Batch    0/16   train_loss = 4.165\n",
      "Epoch  22 Batch    8/16   train_loss = 4.163\n",
      "Epoch  23 Batch    0/16   train_loss = 4.110\n",
      "Epoch  23 Batch    8/16   train_loss = 4.109\n",
      "Epoch  24 Batch    0/16   train_loss = 4.067\n",
      "Epoch  24 Batch    8/16   train_loss = 4.056\n",
      "Epoch  25 Batch    0/16   train_loss = 4.029\n",
      "Epoch  25 Batch    8/16   train_loss = 4.036\n",
      "Epoch  26 Batch    0/16   train_loss = 3.967\n",
      "Epoch  26 Batch    8/16   train_loss = 3.982\n",
      "Epoch  27 Batch    0/16   train_loss = 3.970\n",
      "Epoch  27 Batch    8/16   train_loss = 3.983\n",
      "Epoch  28 Batch    0/16   train_loss = 3.928\n",
      "Epoch  28 Batch    8/16   train_loss = 3.928\n",
      "Epoch  29 Batch    0/16   train_loss = 3.890\n",
      "Epoch  29 Batch    8/16   train_loss = 3.824\n",
      "Epoch  30 Batch    0/16   train_loss = 3.773\n",
      "Epoch  30 Batch    8/16   train_loss = 3.783\n",
      "Epoch  31 Batch    0/16   train_loss = 3.758\n",
      "Epoch  31 Batch    8/16   train_loss = 3.776\n",
      "Epoch  32 Batch    0/16   train_loss = 3.723\n",
      "Epoch  32 Batch    8/16   train_loss = 3.690\n",
      "Epoch  33 Batch    0/16   train_loss = 3.652\n",
      "Epoch  33 Batch    8/16   train_loss = 3.671\n",
      "Epoch  34 Batch    0/16   train_loss = 3.641\n",
      "Epoch  34 Batch    8/16   train_loss = 3.608\n",
      "Epoch  35 Batch    0/16   train_loss = 3.572\n",
      "Epoch  35 Batch    8/16   train_loss = 3.571\n",
      "Epoch  36 Batch    0/16   train_loss = 3.530\n",
      "Epoch  36 Batch    8/16   train_loss = 3.547\n",
      "Epoch  37 Batch    0/16   train_loss = 3.488\n",
      "Epoch  37 Batch    8/16   train_loss = 3.501\n",
      "Epoch  38 Batch    0/16   train_loss = 3.468\n",
      "Epoch  38 Batch    8/16   train_loss = 3.544\n",
      "Epoch  39 Batch    0/16   train_loss = 3.543\n",
      "Epoch  39 Batch    8/16   train_loss = 3.549\n",
      "Epoch  40 Batch    0/16   train_loss = 3.463\n",
      "Epoch  40 Batch    8/16   train_loss = 3.443\n",
      "Epoch  41 Batch    0/16   train_loss = 3.391\n",
      "Epoch  41 Batch    8/16   train_loss = 3.391\n",
      "Epoch  42 Batch    0/16   train_loss = 3.337\n",
      "Epoch  42 Batch    8/16   train_loss = 3.340\n",
      "Epoch  43 Batch    0/16   train_loss = 3.284\n",
      "Epoch  43 Batch    8/16   train_loss = 3.325\n",
      "Epoch  44 Batch    0/16   train_loss = 3.247\n",
      "Epoch  44 Batch    8/16   train_loss = 3.280\n",
      "Epoch  45 Batch    0/16   train_loss = 3.181\n",
      "Epoch  45 Batch    8/16   train_loss = 3.198\n",
      "Epoch  46 Batch    0/16   train_loss = 3.114\n",
      "Epoch  46 Batch    8/16   train_loss = 3.134\n",
      "Epoch  47 Batch    0/16   train_loss = 3.061\n",
      "Epoch  47 Batch    8/16   train_loss = 3.094\n",
      "Epoch  48 Batch    0/16   train_loss = 3.016\n",
      "Epoch  48 Batch    8/16   train_loss = 3.057\n",
      "Epoch  49 Batch    0/16   train_loss = 2.984\n",
      "Epoch  49 Batch    8/16   train_loss = 3.038\n",
      "Epoch  50 Batch    0/16   train_loss = 2.975\n",
      "Epoch  50 Batch    8/16   train_loss = 3.023\n",
      "Epoch  51 Batch    0/16   train_loss = 2.930\n",
      "Epoch  51 Batch    8/16   train_loss = 2.970\n",
      "Epoch  52 Batch    0/16   train_loss = 2.953\n",
      "Epoch  52 Batch    8/16   train_loss = 2.968\n",
      "Epoch  53 Batch    0/16   train_loss = 2.882\n",
      "Epoch  53 Batch    8/16   train_loss = 2.900\n",
      "Epoch  54 Batch    0/16   train_loss = 2.822\n",
      "Epoch  54 Batch    8/16   train_loss = 2.832\n",
      "Epoch  55 Batch    0/16   train_loss = 2.763\n",
      "Epoch  55 Batch    8/16   train_loss = 2.791\n",
      "Epoch  56 Batch    0/16   train_loss = 2.714\n",
      "Epoch  56 Batch    8/16   train_loss = 2.726\n",
      "Epoch  57 Batch    0/16   train_loss = 2.689\n",
      "Epoch  57 Batch    8/16   train_loss = 2.699\n",
      "Epoch  58 Batch    0/16   train_loss = 2.650\n",
      "Epoch  58 Batch    8/16   train_loss = 2.636\n",
      "Epoch  59 Batch    0/16   train_loss = 2.584\n",
      "Epoch  59 Batch    8/16   train_loss = 2.642\n",
      "Epoch  60 Batch    0/16   train_loss = 2.579\n",
      "Epoch  60 Batch    8/16   train_loss = 2.589\n",
      "Epoch  61 Batch    0/16   train_loss = 2.528\n",
      "Epoch  61 Batch    8/16   train_loss = 2.551\n",
      "Epoch  62 Batch    0/16   train_loss = 2.502\n",
      "Epoch  62 Batch    8/16   train_loss = 2.512\n",
      "Epoch  63 Batch    0/16   train_loss = 2.466\n",
      "Epoch  63 Batch    8/16   train_loss = 2.487\n",
      "Epoch  64 Batch    0/16   train_loss = 2.411\n",
      "Epoch  64 Batch    8/16   train_loss = 2.439\n",
      "Epoch  65 Batch    0/16   train_loss = 2.385\n",
      "Epoch  65 Batch    8/16   train_loss = 2.416\n",
      "Epoch  66 Batch    0/16   train_loss = 2.337\n",
      "Epoch  66 Batch    8/16   train_loss = 2.370\n",
      "Epoch  67 Batch    0/16   train_loss = 2.352\n",
      "Epoch  67 Batch    8/16   train_loss = 2.400\n",
      "Epoch  68 Batch    0/16   train_loss = 2.355\n",
      "Epoch  68 Batch    8/16   train_loss = 2.357\n",
      "Epoch  69 Batch    0/16   train_loss = 2.301\n",
      "Epoch  69 Batch    8/16   train_loss = 2.321\n",
      "Epoch  70 Batch    0/16   train_loss = 2.283\n",
      "Epoch  70 Batch    8/16   train_loss = 2.316\n",
      "Epoch  71 Batch    0/16   train_loss = 2.244\n",
      "Epoch  71 Batch    8/16   train_loss = 2.268\n",
      "Epoch  72 Batch    0/16   train_loss = 2.222\n",
      "Epoch  72 Batch    8/16   train_loss = 2.235\n",
      "Epoch  73 Batch    0/16   train_loss = 2.216\n",
      "Epoch  73 Batch    8/16   train_loss = 2.219\n",
      "Epoch  74 Batch    0/16   train_loss = 2.222\n",
      "Epoch  74 Batch    8/16   train_loss = 2.239\n",
      "Epoch  75 Batch    0/16   train_loss = 2.172\n",
      "Epoch  75 Batch    8/16   train_loss = 2.157\n",
      "Epoch  76 Batch    0/16   train_loss = 2.158\n",
      "Epoch  76 Batch    8/16   train_loss = 2.200\n",
      "Epoch  77 Batch    0/16   train_loss = 2.163\n",
      "Epoch  77 Batch    8/16   train_loss = 2.173\n",
      "Epoch  78 Batch    0/16   train_loss = 2.120\n",
      "Epoch  78 Batch    8/16   train_loss = 2.159\n",
      "Epoch  79 Batch    0/16   train_loss = 2.118\n",
      "Epoch  79 Batch    8/16   train_loss = 2.141\n",
      "Epoch  80 Batch    0/16   train_loss = 2.115\n",
      "Epoch  80 Batch    8/16   train_loss = 2.147\n",
      "Epoch  81 Batch    0/16   train_loss = 2.112\n",
      "Epoch  81 Batch    8/16   train_loss = 2.083\n",
      "Epoch  82 Batch    0/16   train_loss = 2.069\n",
      "Epoch  82 Batch    8/16   train_loss = 2.080\n",
      "Epoch  83 Batch    0/16   train_loss = 2.057\n",
      "Epoch  83 Batch    8/16   train_loss = 2.057\n",
      "Epoch  84 Batch    0/16   train_loss = 1.977\n",
      "Epoch  84 Batch    8/16   train_loss = 1.953\n",
      "Epoch  85 Batch    0/16   train_loss = 1.914\n",
      "Epoch  85 Batch    8/16   train_loss = 1.904\n",
      "Epoch  86 Batch    0/16   train_loss = 1.858\n",
      "Epoch  86 Batch    8/16   train_loss = 1.856\n",
      "Epoch  87 Batch    0/16   train_loss = 1.818\n",
      "Epoch  87 Batch    8/16   train_loss = 1.822\n",
      "Epoch  88 Batch    0/16   train_loss = 1.805\n",
      "Epoch  88 Batch    8/16   train_loss = 1.816\n",
      "Epoch  89 Batch    0/16   train_loss = 1.804\n",
      "Epoch  89 Batch    8/16   train_loss = 1.798\n",
      "Epoch  90 Batch    0/16   train_loss = 1.793\n",
      "Epoch  90 Batch    8/16   train_loss = 1.777\n",
      "Epoch  91 Batch    0/16   train_loss = 1.771\n"
     ]
    },
    {
     "name": "stdout",
     "output_type": "stream",
     "text": [
      "Epoch  91 Batch    8/16   train_loss = 1.760\n",
      "Epoch  92 Batch    0/16   train_loss = 1.751\n",
      "Epoch  92 Batch    8/16   train_loss = 1.751\n",
      "Epoch  93 Batch    0/16   train_loss = 1.727\n",
      "Epoch  93 Batch    8/16   train_loss = 1.736\n",
      "Epoch  94 Batch    0/16   train_loss = 1.731\n",
      "Epoch  94 Batch    8/16   train_loss = 1.721\n",
      "Epoch  95 Batch    0/16   train_loss = 1.696\n",
      "Epoch  95 Batch    8/16   train_loss = 1.658\n",
      "Epoch  96 Batch    0/16   train_loss = 1.683\n",
      "Epoch  96 Batch    8/16   train_loss = 1.718\n",
      "Epoch  97 Batch    0/16   train_loss = 1.748\n",
      "Epoch  97 Batch    8/16   train_loss = 1.773\n",
      "Epoch  98 Batch    0/16   train_loss = 1.742\n",
      "Epoch  98 Batch    8/16   train_loss = 1.756\n",
      "Epoch  99 Batch    0/16   train_loss = 1.733\n",
      "Epoch  99 Batch    8/16   train_loss = 1.704\n",
      "Epoch 100 Batch    0/16   train_loss = 1.651\n",
      "Epoch 100 Batch    8/16   train_loss = 1.631\n",
      "Epoch 101 Batch    0/16   train_loss = 1.622\n",
      "Epoch 101 Batch    8/16   train_loss = 1.598\n",
      "Epoch 102 Batch    0/16   train_loss = 1.568\n",
      "Epoch 102 Batch    8/16   train_loss = 1.531\n",
      "Epoch 103 Batch    0/16   train_loss = 1.526\n",
      "Epoch 103 Batch    8/16   train_loss = 1.516\n",
      "Epoch 104 Batch    0/16   train_loss = 1.507\n",
      "Epoch 104 Batch    8/16   train_loss = 1.475\n",
      "Epoch 105 Batch    0/16   train_loss = 1.467\n",
      "Epoch 105 Batch    8/16   train_loss = 1.430\n",
      "Epoch 106 Batch    0/16   train_loss = 1.453\n",
      "Epoch 106 Batch    8/16   train_loss = 1.440\n",
      "Epoch 107 Batch    0/16   train_loss = 1.456\n",
      "Epoch 107 Batch    8/16   train_loss = 1.443\n",
      "Epoch 108 Batch    0/16   train_loss = 1.456\n",
      "Epoch 108 Batch    8/16   train_loss = 1.436\n",
      "Epoch 109 Batch    0/16   train_loss = 1.441\n",
      "Epoch 109 Batch    8/16   train_loss = 1.420\n",
      "Epoch 110 Batch    0/16   train_loss = 1.407\n",
      "Epoch 110 Batch    8/16   train_loss = 1.378\n",
      "Epoch 111 Batch    0/16   train_loss = 1.367\n",
      "Epoch 111 Batch    8/16   train_loss = 1.371\n",
      "Epoch 112 Batch    0/16   train_loss = 1.353\n",
      "Epoch 112 Batch    8/16   train_loss = 1.345\n",
      "Epoch 113 Batch    0/16   train_loss = 1.313\n",
      "Epoch 113 Batch    8/16   train_loss = 1.294\n",
      "Epoch 114 Batch    0/16   train_loss = 1.278\n",
      "Epoch 114 Batch    8/16   train_loss = 1.271\n",
      "Epoch 115 Batch    0/16   train_loss = 1.233\n",
      "Epoch 115 Batch    8/16   train_loss = 1.223\n",
      "Epoch 116 Batch    0/16   train_loss = 1.199\n",
      "Epoch 116 Batch    8/16   train_loss = 1.209\n",
      "Epoch 117 Batch    0/16   train_loss = 1.189\n",
      "Epoch 117 Batch    8/16   train_loss = 1.182\n",
      "Epoch 118 Batch    0/16   train_loss = 1.147\n",
      "Epoch 118 Batch    8/16   train_loss = 1.137\n",
      "Epoch 119 Batch    0/16   train_loss = 1.123\n",
      "Epoch 119 Batch    8/16   train_loss = 1.118\n",
      "Epoch 120 Batch    0/16   train_loss = 1.112\n",
      "Epoch 120 Batch    8/16   train_loss = 1.112\n",
      "Epoch 121 Batch    0/16   train_loss = 1.099\n",
      "Epoch 121 Batch    8/16   train_loss = 1.108\n",
      "Epoch 122 Batch    0/16   train_loss = 1.098\n",
      "Epoch 122 Batch    8/16   train_loss = 1.117\n",
      "Epoch 123 Batch    0/16   train_loss = 1.108\n",
      "Epoch 123 Batch    8/16   train_loss = 1.137\n",
      "Epoch 124 Batch    0/16   train_loss = 1.128\n",
      "Epoch 124 Batch    8/16   train_loss = 1.170\n",
      "Epoch 125 Batch    0/16   train_loss = 1.136\n",
      "Epoch 125 Batch    8/16   train_loss = 1.165\n",
      "Epoch 126 Batch    0/16   train_loss = 1.099\n",
      "Epoch 126 Batch    8/16   train_loss = 1.135\n",
      "Epoch 127 Batch    0/16   train_loss = 1.121\n",
      "Epoch 127 Batch    8/16   train_loss = 1.142\n",
      "Epoch 128 Batch    0/16   train_loss = 1.108\n",
      "Epoch 128 Batch    8/16   train_loss = 1.094\n",
      "Epoch 129 Batch    0/16   train_loss = 1.068\n",
      "Epoch 129 Batch    8/16   train_loss = 1.065\n",
      "Epoch 130 Batch    0/16   train_loss = 1.052\n",
      "Epoch 130 Batch    8/16   train_loss = 1.045\n",
      "Epoch 131 Batch    0/16   train_loss = 1.014\n",
      "Epoch 131 Batch    8/16   train_loss = 0.990\n",
      "Epoch 132 Batch    0/16   train_loss = 0.951\n",
      "Epoch 132 Batch    8/16   train_loss = 0.934\n",
      "Epoch 133 Batch    0/16   train_loss = 0.893\n",
      "Epoch 133 Batch    8/16   train_loss = 0.882\n",
      "Epoch 134 Batch    0/16   train_loss = 0.858\n",
      "Epoch 134 Batch    8/16   train_loss = 0.855\n",
      "Epoch 135 Batch    0/16   train_loss = 0.843\n",
      "Epoch 135 Batch    8/16   train_loss = 0.842\n",
      "Epoch 136 Batch    0/16   train_loss = 0.825\n",
      "Epoch 136 Batch    8/16   train_loss = 0.835\n",
      "Epoch 137 Batch    0/16   train_loss = 0.809\n",
      "Epoch 137 Batch    8/16   train_loss = 0.817\n",
      "Epoch 138 Batch    0/16   train_loss = 0.796\n",
      "Epoch 138 Batch    8/16   train_loss = 0.803\n",
      "Epoch 139 Batch    0/16   train_loss = 0.799\n",
      "Epoch 139 Batch    8/16   train_loss = 0.808\n",
      "Epoch 140 Batch    0/16   train_loss = 0.811\n",
      "Epoch 140 Batch    8/16   train_loss = 0.805\n",
      "Epoch 141 Batch    0/16   train_loss = 0.791\n",
      "Epoch 141 Batch    8/16   train_loss = 0.773\n",
      "Epoch 142 Batch    0/16   train_loss = 0.748\n",
      "Epoch 142 Batch    8/16   train_loss = 0.745\n",
      "Epoch 143 Batch    0/16   train_loss = 0.725\n",
      "Epoch 143 Batch    8/16   train_loss = 0.751\n",
      "Epoch 144 Batch    0/16   train_loss = 0.749\n",
      "Epoch 144 Batch    8/16   train_loss = 0.773\n",
      "Epoch 145 Batch    0/16   train_loss = 0.752\n",
      "Epoch 145 Batch    8/16   train_loss = 0.734\n",
      "Epoch 146 Batch    0/16   train_loss = 0.701\n",
      "Epoch 146 Batch    8/16   train_loss = 0.709\n",
      "Epoch 147 Batch    0/16   train_loss = 0.687\n",
      "Epoch 147 Batch    8/16   train_loss = 0.694\n",
      "Epoch 148 Batch    0/16   train_loss = 0.674\n",
      "Epoch 148 Batch    8/16   train_loss = 0.670\n",
      "Epoch 149 Batch    0/16   train_loss = 0.640\n",
      "Epoch 149 Batch    8/16   train_loss = 0.655\n",
      "Epoch 150 Batch    0/16   train_loss = 0.639\n",
      "Epoch 150 Batch    8/16   train_loss = 0.649\n",
      "Epoch 151 Batch    0/16   train_loss = 0.628\n",
      "Epoch 151 Batch    8/16   train_loss = 0.641\n",
      "Epoch 152 Batch    0/16   train_loss = 0.610\n",
      "Epoch 152 Batch    8/16   train_loss = 0.627\n",
      "Epoch 153 Batch    0/16   train_loss = 0.611\n",
      "Epoch 153 Batch    8/16   train_loss = 0.620\n",
      "Epoch 154 Batch    0/16   train_loss = 0.604\n",
      "Epoch 154 Batch    8/16   train_loss = 0.619\n",
      "Epoch 155 Batch    0/16   train_loss = 0.594\n",
      "Epoch 155 Batch    8/16   train_loss = 0.610\n",
      "Epoch 156 Batch    0/16   train_loss = 0.604\n",
      "Epoch 156 Batch    8/16   train_loss = 0.625\n",
      "Epoch 157 Batch    0/16   train_loss = 0.649\n",
      "Epoch 157 Batch    8/16   train_loss = 0.684\n",
      "Epoch 158 Batch    0/16   train_loss = 0.689\n",
      "Epoch 158 Batch    8/16   train_loss = 0.707\n",
      "Epoch 159 Batch    0/16   train_loss = 0.690\n",
      "Epoch 159 Batch    8/16   train_loss = 0.706\n",
      "Epoch 160 Batch    0/16   train_loss = 0.655\n",
      "Epoch 160 Batch    8/16   train_loss = 0.665\n",
      "Epoch 161 Batch    0/16   train_loss = 0.601\n",
      "Epoch 161 Batch    8/16   train_loss = 0.602\n",
      "Epoch 162 Batch    0/16   train_loss = 0.584\n",
      "Epoch 162 Batch    8/16   train_loss = 0.575\n",
      "Epoch 163 Batch    0/16   train_loss = 0.535\n",
      "Epoch 163 Batch    8/16   train_loss = 0.523\n",
      "Epoch 164 Batch    0/16   train_loss = 0.506\n",
      "Epoch 164 Batch    8/16   train_loss = 0.504\n",
      "Epoch 165 Batch    0/16   train_loss = 0.490\n",
      "Epoch 165 Batch    8/16   train_loss = 0.501\n",
      "Epoch 166 Batch    0/16   train_loss = 0.503\n",
      "Epoch 166 Batch    8/16   train_loss = 0.520\n",
      "Epoch 167 Batch    0/16   train_loss = 0.514\n",
      "Epoch 167 Batch    8/16   train_loss = 0.529\n",
      "Epoch 168 Batch    0/16   train_loss = 0.515\n",
      "Epoch 168 Batch    8/16   train_loss = 0.518\n",
      "Epoch 169 Batch    0/16   train_loss = 0.502\n",
      "Epoch 169 Batch    8/16   train_loss = 0.492\n",
      "Epoch 170 Batch    0/16   train_loss = 0.477\n",
      "Epoch 170 Batch    8/16   train_loss = 0.462\n",
      "Epoch 171 Batch    0/16   train_loss = 0.451\n",
      "Epoch 171 Batch    8/16   train_loss = 0.457\n",
      "Epoch 172 Batch    0/16   train_loss = 0.456\n",
      "Epoch 172 Batch    8/16   train_loss = 0.476\n",
      "Epoch 173 Batch    0/16   train_loss = 0.458\n",
      "Epoch 173 Batch    8/16   train_loss = 0.451\n",
      "Epoch 174 Batch    0/16   train_loss = 0.414\n",
      "Epoch 174 Batch    8/16   train_loss = 0.411\n",
      "Epoch 175 Batch    0/16   train_loss = 0.397\n",
      "Epoch 175 Batch    8/16   train_loss = 0.409\n",
      "Epoch 176 Batch    0/16   train_loss = 0.389\n",
      "Epoch 176 Batch    8/16   train_loss = 0.387\n",
      "Epoch 177 Batch    0/16   train_loss = 0.363\n",
      "Epoch 177 Batch    8/16   train_loss = 0.370\n",
      "Epoch 178 Batch    0/16   train_loss = 0.357\n",
      "Epoch 178 Batch    8/16   train_loss = 0.369\n",
      "Epoch 179 Batch    0/16   train_loss = 0.354\n",
      "Epoch 179 Batch    8/16   train_loss = 0.365\n",
      "Epoch 180 Batch    0/16   train_loss = 0.348\n",
      "Epoch 180 Batch    8/16   train_loss = 0.356\n",
      "Epoch 181 Batch    0/16   train_loss = 0.340\n",
      "Epoch 181 Batch    8/16   train_loss = 0.350\n",
      "Epoch 182 Batch    0/16   train_loss = 0.337\n",
      "Epoch 182 Batch    8/16   train_loss = 0.348\n"
     ]
    },
    {
     "name": "stdout",
     "output_type": "stream",
     "text": [
      "Epoch 183 Batch    0/16   train_loss = 0.334\n",
      "Epoch 183 Batch    8/16   train_loss = 0.342\n",
      "Epoch 184 Batch    0/16   train_loss = 0.329\n",
      "Epoch 184 Batch    8/16   train_loss = 0.338\n",
      "Epoch 185 Batch    0/16   train_loss = 0.323\n",
      "Epoch 185 Batch    8/16   train_loss = 0.335\n",
      "Epoch 186 Batch    0/16   train_loss = 0.320\n",
      "Epoch 186 Batch    8/16   train_loss = 0.328\n",
      "Epoch 187 Batch    0/16   train_loss = 0.315\n",
      "Epoch 187 Batch    8/16   train_loss = 0.319\n",
      "Epoch 188 Batch    0/16   train_loss = 0.310\n",
      "Epoch 188 Batch    8/16   train_loss = 0.322\n",
      "Epoch 189 Batch    0/16   train_loss = 0.317\n",
      "Epoch 189 Batch    8/16   train_loss = 0.348\n",
      "Epoch 190 Batch    0/16   train_loss = 0.348\n",
      "Epoch 190 Batch    8/16   train_loss = 0.397\n",
      "Epoch 191 Batch    0/16   train_loss = 0.409\n",
      "Epoch 191 Batch    8/16   train_loss = 0.447\n",
      "Epoch 192 Batch    0/16   train_loss = 0.446\n",
      "Epoch 192 Batch    8/16   train_loss = 0.462\n",
      "Epoch 193 Batch    0/16   train_loss = 0.399\n",
      "Epoch 193 Batch    8/16   train_loss = 0.387\n",
      "Epoch 194 Batch    0/16   train_loss = 0.329\n",
      "Epoch 194 Batch    8/16   train_loss = 0.344\n",
      "Epoch 195 Batch    0/16   train_loss = 0.357\n",
      "Epoch 195 Batch    8/16   train_loss = 0.374\n",
      "Epoch 196 Batch    0/16   train_loss = 0.334\n",
      "Epoch 196 Batch    8/16   train_loss = 0.314\n",
      "Epoch 197 Batch    0/16   train_loss = 0.291\n",
      "Epoch 197 Batch    8/16   train_loss = 0.296\n",
      "Epoch 198 Batch    0/16   train_loss = 0.275\n",
      "Epoch 198 Batch    8/16   train_loss = 0.280\n",
      "Epoch 199 Batch    0/16   train_loss = 0.262\n",
      "Epoch 199 Batch    8/16   train_loss = 0.271\n",
      "Model Trained and Saved\n"
     ]
    }
   ],
   "source": [
    "\"\"\"\n",
    "DON'T MODIFY ANYTHING IN THIS CELL\n",
    "\"\"\"\n",
    "batches = get_batches(int_text, batch_size, seq_length)\n",
    "\n",
    "with tf.Session(graph=train_graph) as sess:\n",
    "    sess.run(tf.global_variables_initializer())\n",
    "\n",
    "    for epoch_i in range(num_epochs):\n",
    "        state = sess.run(initial_state, {input_text: batches[0][0]})\n",
    "\n",
    "        for batch_i, (x, y) in enumerate(batches):\n",
    "            feed = {\n",
    "                input_text: x,\n",
    "                targets: y,\n",
    "                initial_state: state,\n",
    "                lr: learning_rate}\n",
    "            train_loss, state, _ = sess.run([cost, final_state, train_op], feed)\n",
    "\n",
    "            # Show every <show_every_n_batches> batches\n",
    "            if (epoch_i * len(batches) + batch_i) % show_every_n_batches == 0:\n",
    "                print('Epoch {:>3} Batch {:>4}/{}   train_loss = {:.3f}'.format(\n",
    "                    epoch_i,\n",
    "                    batch_i,\n",
    "                    len(batches),\n",
    "                    train_loss))\n",
    "\n",
    "    # Save Model\n",
    "    saver = tf.train.Saver()\n",
    "    saver.save(sess, save_dir)\n",
    "    print('Model Trained and Saved')"
   ]
  },
  {
   "cell_type": "markdown",
   "metadata": {},
   "source": [
    "## Save Parameters\n",
    "Save `seq_length` and `save_dir` for generating a new TV script."
   ]
  },
  {
   "cell_type": "code",
   "execution_count": 59,
   "metadata": {
    "collapsed": true
   },
   "outputs": [],
   "source": [
    "\"\"\"\n",
    "DON'T MODIFY ANYTHING IN THIS CELL\n",
    "\"\"\"\n",
    "# Save parameters for checkpoint\n",
    "helper.save_params((seq_length, save_dir))"
   ]
  },
  {
   "cell_type": "markdown",
   "metadata": {},
   "source": [
    "# Checkpoint"
   ]
  },
  {
   "cell_type": "code",
   "execution_count": 60,
   "metadata": {
    "collapsed": true
   },
   "outputs": [],
   "source": [
    "\"\"\"\n",
    "DON'T MODIFY ANYTHING IN THIS CELL\n",
    "\"\"\"\n",
    "import tensorflow as tf\n",
    "import numpy as np\n",
    "import helper\n",
    "import problem_unittests as tests\n",
    "\n",
    "_, vocab_to_int, int_to_vocab, token_dict = helper.load_preprocess()\n",
    "seq_length, load_dir = helper.load_params()"
   ]
  },
  {
   "cell_type": "markdown",
   "metadata": {},
   "source": [
    "## Implement Generate Functions\n",
    "### Get Tensors\n",
    "Get tensors from `loaded_graph` using the function [`get_tensor_by_name()`](https://www.tensorflow.org/api_docs/python/tf/Graph#get_tensor_by_name).  Get the tensors using the following names:\n",
    "- \"input:0\"\n",
    "- \"initial_state:0\"\n",
    "- \"final_state:0\"\n",
    "- \"probs:0\"\n",
    "\n",
    "Return the tensors in the following tuple `(InputTensor, InitialStateTensor, FinalStateTensor, ProbsTensor)` "
   ]
  },
  {
   "cell_type": "code",
   "execution_count": 61,
   "metadata": {},
   "outputs": [
    {
     "name": "stdout",
     "output_type": "stream",
     "text": [
      "Tests Passed\n"
     ]
    }
   ],
   "source": [
    "def get_tensors(loaded_graph):\n",
    "    \"\"\"\n",
    "    Get input, initial state, final state, and probabilities tensor from <loaded_graph>\n",
    "    :param loaded_graph: TensorFlow graph loaded from file\n",
    "    :return: Tuple (InputTensor, InitialStateTensor, FinalStateTensor, ProbsTensor)\n",
    "    \"\"\"\n",
    "    input_tensor = loaded_graph.get_tensor_by_name('input:0')\n",
    "    initial_state_tensor = loaded_graph.get_tensor_by_name('initial_state:0')\n",
    "    final_state_tensor = loaded_graph.get_tensor_by_name('final_state:0')\n",
    "    probs_tensor = loaded_graph.get_tensor_by_name('probs:0')\n",
    "    \n",
    "    return (input_tensor, initial_state_tensor, final_state_tensor, probs_tensor)\n",
    "\n",
    "\n",
    "\"\"\"\n",
    "DON'T MODIFY ANYTHING IN THIS CELL THAT IS BELOW THIS LINE\n",
    "\"\"\"\n",
    "tests.test_get_tensors(get_tensors)"
   ]
  },
  {
   "cell_type": "markdown",
   "metadata": {},
   "source": [
    "### Choose Word\n",
    "Implement the `pick_word()` function to select the next word using `probabilities`."
   ]
  },
  {
   "cell_type": "code",
   "execution_count": 62,
   "metadata": {},
   "outputs": [
    {
     "name": "stdout",
     "output_type": "stream",
     "text": [
      "Tests Passed\n"
     ]
    }
   ],
   "source": [
    "def pick_word(probabilities, int_to_vocab):\n",
    "    \"\"\"\n",
    "    Pick the next word in the generated text\n",
    "    :param probabilities: Probabilites of the next word\n",
    "    :param int_to_vocab: Dictionary of word ids as the keys and words as the values\n",
    "    :return: String of the predicted word\n",
    "    \"\"\"\n",
    "    vocab_list = list(int_to_vocab.values())\n",
    "    return np.random.choice(vocab_list, size=1, p=probabilities)[0]\n",
    "\n",
    "\n",
    "\"\"\"\n",
    "DON'T MODIFY ANYTHING IN THIS CELL THAT IS BELOW THIS LINE\n",
    "\"\"\"\n",
    "tests.test_pick_word(pick_word)"
   ]
  },
  {
   "cell_type": "markdown",
   "metadata": {},
   "source": [
    "## Generate TV Script\n",
    "This will generate the TV script for you.  Set `gen_length` to the length of TV script you want to generate."
   ]
  },
  {
   "cell_type": "code",
   "execution_count": 63,
   "metadata": {},
   "outputs": [
    {
     "name": "stdout",
     "output_type": "stream",
     "text": [
      "INFO:tensorflow:Restoring parameters from ./save\n",
      "moe_szyslak:... i didn't rip out his voice box, but i did stretch out and three hundred by first.\n",
      "carl_carlson: hey, thanks a minute. gotta would ya? what would you say? 'cause you say the most over tomorrow. / it was the only one.\n",
      "lurleen_lumpkin: so... my heart just made it look at the time with marge.\n",
      "moe_szyslak:(happy) hi to stop guys, but i want to give me on the old air conditioner.\n",
      "moe_szyslak: oh, the little cutie i used to ever.\n",
      "moe_szyslak: okay, i need it.\n",
      "\n",
      "\n",
      "moe_szyslak: hey, hey, hey, hey! i got a better idea to be something for the fastest room?\n",
      "homer_simpson:(noticing band\") although, how many women has you get pants?\n",
      "businessman_#2:(stagy) yeah.\" of perfect!\n",
      "moe_szyslak:(to bears) marge!(laughs) whoa!\n",
      "dr. _zander: hey, i have a feeling that you are make money a guy. pick up\n"
     ]
    }
   ],
   "source": [
    "gen_length = 200\n",
    "# homer_simpson, moe_szyslak, or Barney_Gumble\n",
    "prime_word = 'moe_szyslak'\n",
    "\n",
    "\"\"\"\n",
    "DON'T MODIFY ANYTHING IN THIS CELL THAT IS BELOW THIS LINE\n",
    "\"\"\"\n",
    "loaded_graph = tf.Graph()\n",
    "with tf.Session(graph=loaded_graph) as sess:\n",
    "    # Load saved model\n",
    "    loader = tf.train.import_meta_graph(load_dir + '.meta')\n",
    "    loader.restore(sess, load_dir)\n",
    "\n",
    "    # Get Tensors from loaded model\n",
    "    input_text, initial_state, final_state, probs = get_tensors(loaded_graph)\n",
    "\n",
    "    # Sentences generation setup\n",
    "    gen_sentences = [prime_word + ':']\n",
    "    prev_state = sess.run(initial_state, {input_text: np.array([[1]])})\n",
    "\n",
    "    # Generate sentences\n",
    "    for n in range(gen_length):\n",
    "        # Dynamic Input\n",
    "        dyn_input = [[vocab_to_int[word] for word in gen_sentences[-seq_length:]]]\n",
    "        dyn_seq_length = len(dyn_input[0])\n",
    "\n",
    "        # Get Prediction\n",
    "        probabilities, prev_state = sess.run(\n",
    "            [probs, final_state],\n",
    "            {input_text: dyn_input, initial_state: prev_state})\n",
    "        \n",
    "        pred_word = pick_word(probabilities[dyn_seq_length-1], int_to_vocab)\n",
    "\n",
    "        gen_sentences.append(pred_word)\n",
    "    \n",
    "    # Remove tokens\n",
    "    tv_script = ' '.join(gen_sentences)\n",
    "    for key, token in token_dict.items():\n",
    "        ending = ' ' if key in ['\\n', '(', '\"'] else ''\n",
    "        tv_script = tv_script.replace(' ' + token.lower(), key)\n",
    "    tv_script = tv_script.replace('\\n ', '\\n')\n",
    "    tv_script = tv_script.replace('( ', '(')\n",
    "        \n",
    "    print(tv_script)"
   ]
  },
  {
   "cell_type": "markdown",
   "metadata": {},
   "source": [
    "# The TV Script is Nonsensical\n",
    "It's ok if the TV script doesn't make any sense.  We trained on less than a megabyte of text.  In order to get good results, you'll have to use a smaller vocabulary or get more data.  Luckly there's more data!  As we mentioned in the begging of this project, this is a subset of [another dataset](https://www.kaggle.com/wcukierski/the-simpsons-by-the-data).  We didn't have you train on all the data, because that would take too long.  However, you are free to train your neural network on all the data.  After you complete the project, of course.\n",
    "# Submitting This Project\n",
    "When submitting this project, make sure to run all the cells before saving the notebook. Save the notebook file as \"dlnd_tv_script_generation.ipynb\" and save it as a HTML file under \"File\" -> \"Download as\". Include the \"helper.py\" and \"problem_unittests.py\" files in your submission."
   ]
  }
 ],
 "metadata": {
  "kernelspec": {
   "display_name": "Python 3",
   "language": "python",
   "name": "python3"
  },
  "language_info": {
   "codemirror_mode": {
    "name": "ipython",
    "version": 3
   },
   "file_extension": ".py",
   "mimetype": "text/x-python",
   "name": "python",
   "nbconvert_exporter": "python",
   "pygments_lexer": "ipython3",
   "version": "3.5.3"
  },
  "widgets": {
   "state": {},
   "version": "1.1.2"
  }
 },
 "nbformat": 4,
 "nbformat_minor": 1
}
